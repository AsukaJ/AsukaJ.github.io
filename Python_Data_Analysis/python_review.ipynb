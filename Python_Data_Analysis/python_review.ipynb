{
 "cells": [
  {
   "cell_type": "markdown",
   "metadata": {},
   "source": [
    "##### Python Review"
   ]
  },
  {
   "cell_type": "markdown",
   "metadata": {},
   "source": [
    "Jupyter notebook\n",
    "Web-http/websocket-notebook server（ipyb（ipython notebook）） ——kernel\n",
    "Jupyter notebook 是一种 Web 应用，能让用户将说明文本、数学方程、代码和可视化内容全部组合到一个易于共享的文档中。\n",
    "Jupyter notebook 已迅速成为数据分析、机器学习等领域的工作人员在进行数据清理和探索时所需的必备工具。notebook 能将文档及代码等一切相关资料集中到一处，让用户一目了然。\n",
    "Jupyter notebook 源自 IPython，是一种交互式 shell，与普通的 Python shell 相似。最初，notebook 的工作方式是，将来自 Web 应用（你在浏览器中看到的 notebook）的消息发送给 IPython 内核（在后台运行的 IPython 应用程序）。内核执行代码，然后将结果发送回 notebook。IPython经过技术演进之后，将内核分离，成为现在的架构模式\n",
    "架构的核心是 notebook server。用户通过浏览器连接到该服务器。用户在 Web 应用中编写的代码通过浏览器发送给notebook server之后，notebook server将代码发送给内核，内核运行并将结果发送回notebook server。最后，输出返回给浏览器并展示给用户。\n",
    "保存 notebook 时，所有内容将生成一个 JSON 文件（文件扩展名为 .ipynb）写入到notebook server中。 \n"
   ]
  },
  {
   "cell_type": "code",
   "execution_count": 1,
   "metadata": {},
   "outputs": [
    {
     "name": "stdout",
     "output_type": "stream",
     "text": [
      "False\n"
     ]
    }
   ],
   "source": [
    "print(\"hellO\".islower())"
   ]
  },
  {
   "cell_type": "code",
   "execution_count": 2,
   "metadata": {},
   "outputs": [
    {
     "name": "stdout",
     "output_type": "stream",
     "text": [
      "2+3=5\n"
     ]
    }
   ],
   "source": [
    "print(\"{0}+{1}={2}\".format(2,3,2+3))"
   ]
  },
  {
   "cell_type": "code",
   "execution_count": 3,
   "metadata": {},
   "outputs": [
    {
     "name": "stdout",
     "output_type": "stream",
     "text": [
      "0.333\n"
     ]
    }
   ],
   "source": [
    "print(\"{0:.3}\".format(1/3))    #第0个元素 保留.3位浮点数"
   ]
  },
  {
   "cell_type": "code",
   "execution_count": 5,
   "metadata": {},
   "outputs": [
    {
     "name": "stdout",
     "output_type": "stream",
     "text": [
      "use    python \n"
     ]
    }
   ],
   "source": [
    "print(\"{0:7}{1:7}\".format('use','python'))"
   ]
  },
  {
   "cell_type": "code",
   "execution_count": 155,
   "metadata": {},
   "outputs": [
    {
     "name": "stdout",
     "output_type": "stream",
     "text": [
      "JAN is followed by FEB is followed by MARCH\n"
     ]
    }
   ],
   "source": [
    "input = ['Jan', 'Feb', 'March']\n",
    "print(' is followed by '.join([newStr.upper() for newStr in input]))"
   ]
  },
  {
   "cell_type": "code",
   "execution_count": 157,
   "metadata": {},
   "outputs": [
    {
     "data": {
      "text/plain": [
       "'JAN+FEB+MARCH'"
      ]
     },
     "execution_count": 157,
     "metadata": {},
     "output_type": "execute_result"
    }
   ],
   "source": [
    "\"+\".join([newStr.upper() for newStr in input])"
   ]
  },
  {
   "cell_type": "code",
   "execution_count": 11,
   "metadata": {},
   "outputs": [
    {
     "name": "stdout",
     "output_type": "stream",
     "text": [
      "HLOSE DOIJU\n",
      "hlose doiju\n",
      "Hlose doiju\n",
      "Hlose Doiju\n"
     ]
    }
   ],
   "source": [
    "str = 'Hlose doijU'\n",
    "print(str.upper())# 把所有字符中的小写字母转换成大写字母\n",
    "print(str.lower())   # 把所有字符中的大写字母转换成小写字母\n",
    "print(str.capitalize()) # 把第一个字母转化为大写字母，其余小写\n",
    "print(str.title())   # 把每个单词的第一个字母转化为大写，其余小写 "
   ]
  },
  {
   "cell_type": "markdown",
   "metadata": {},
   "source": [
    "元组：\n",
    "1.顺序存储相同/不同类型的元素\n",
    "2.元组定义，元素之间用“,”隔开，使用（）将元素括起来\n",
    "3.特性：不可变，不支持添加、修改、删除元组操作\n",
    "4.查询：通过下标查询元组指定位置的元素\n",
    "5.空元组：none_tuple = ( )\n",
    "6.只包含一个元素的元组： one_tuple = (\"one\",)\n",
    "7.可省略小括号的方式\n",
    "           tuple_a = 1, 2\n",
    "8.循环遍历元组\n",
    "Python的元组为不可变类型，但却可以进行相加操作。\n",
    "比如(1, 2) + (3, 4)结果是(1, 2, 3, 4)，这看起来好像是修改了元组的内容。\n",
    "但其实这个相加操作，在Python中生成了一个新的对象，用来存储元组连接生成的这个新内容，而不是在原有对象中进行的修改。\n",
    "为了验证以上解释，用以下代码做个简单验证。请通过搜索引擎或者相关的资料查询等办法，获取Python中计算对象地址的方法并填入到代码空缺中（如果填空正确，代码输出结果为False）\n"
   ]
  },
  {
   "cell_type": "code",
   "execution_count": 13,
   "metadata": {},
   "outputs": [
    {
     "name": "stdout",
     "output_type": "stream",
     "text": [
      "False\n",
      "2410281014856\n",
      "2410280997128\n",
      "2410283419512\n"
     ]
    }
   ],
   "source": [
    "a = (1, 2)\n",
    "b = (3, 4)\n",
    "c = a + b\n",
    "print(id(a) == id(c))   \n",
    "print(id(a))\n",
    "print(id(b))\n",
    "print(id(c))"
   ]
  },
  {
   "cell_type": "markdown",
   "metadata": {},
   "source": [
    "Note：id() 函数用于获取对象的内存地址。"
   ]
  },
  {
   "cell_type": "markdown",
   "metadata": {},
   "source": [
    "**regular expression模块**"
   ]
  },
  {
   "cell_type": "code",
   "execution_count": 15,
   "metadata": {},
   "outputs": [
    {
     "name": "stdout",
     "output_type": "stream",
     "text": [
      "{'banana', 'pineapple', 'apple'}\n",
      "set()\n"
     ]
    }
   ],
   "source": [
    "name_set = {\"apple\", \"banana\", \"pineapple\"}\n",
    "none_set = set()\n",
    "print(name_set)\n",
    "print(none_set)"
   ]
  },
  {
   "cell_type": "code",
   "execution_count": 21,
   "metadata": {},
   "outputs": [
    {
     "name": "stdout",
     "output_type": "stream",
     "text": [
      "chinahadoop\n",
      "None\n"
     ]
    }
   ],
   "source": [
    "import re\n",
    "result = re.match(\"chinahadoop\",\"chinahadoop.cn\")\n",
    "result_n = re.match(\"chinahadoop\",\"chinalls\") \n",
    "print(result.group())   #匹配对象Macth Object具有group方法，用来返回字符串的匹配部分\n",
    "print(result_n)    #match方法返回匹配对象Match Object，否则返回None"
   ]
  },
  {
   "cell_type": "code",
   "execution_count": 23,
   "metadata": {},
   "outputs": [
    {
     "name": "stdout",
     "output_type": "stream",
     "text": [
      "1\n"
     ]
    }
   ],
   "source": [
    "import re\n",
    "rs = re.match(\".\",\"1\")\n",
    "print(rs.group())"
   ]
  },
  {
   "cell_type": "code",
   "execution_count": 24,
   "metadata": {},
   "outputs": [
    {
     "name": "stdout",
     "output_type": "stream",
     "text": [
      "a\n"
     ]
    }
   ],
   "source": [
    "import re\n",
    "rs = re.match(\".\",\"a\")\n",
    "print(rs.group())"
   ]
  },
  {
   "cell_type": "code",
   "execution_count": 25,
   "metadata": {},
   "outputs": [
    {
     "name": "stdout",
     "output_type": "stream",
     "text": [
      "a\n",
      "abc\n"
     ]
    }
   ],
   "source": [
    "rs = re.match(\".\",\"abc\")  #只匹配单个字符\n",
    "print(rs.group())\n",
    "rs = re.match(\"...\",\"abc\")  #用3个点匹配3个字符\n",
    "print(rs.group())"
   ]
  },
  {
   "cell_type": "code",
   "execution_count": 26,
   "metadata": {},
   "outputs": [
    {
     "name": "stdout",
     "output_type": "stream",
     "text": [
      "a\n",
      "A\n",
      "1\n",
      "_\n",
      "<class 'NoneType'>\n"
     ]
    }
   ],
   "source": [
    "#示例：\\w匹配单词字符（包括 _ ）\n",
    "rs = re.match(\"\\w\",\"a\")\n",
    "print(rs.group())\n",
    "rs = re.match(\"\\w\",\"A\")\n",
    "print(rs.group())\n",
    "rs = re.match(\"\\w\",\"1\")\n",
    "print(rs.group())\n",
    "rs = re.match(\"\\w\",\"_\")\n",
    "print(rs.group())\n",
    "rs = re.match(\"\\w\",\"*\") #将不会匹配*，返回none\n",
    "print(type(rs))"
   ]
  },
  {
   "cell_type": "code",
   "execution_count": 39,
   "metadata": {},
   "outputs": [
    {
     "name": "stdout",
     "output_type": "stream",
     "text": [
      "h\n",
      "3\n",
      "3\n",
      "None\n"
     ]
    }
   ],
   "source": [
    "#示例：匹配[ ]中列举的字符，列举的字符之间相当于是或的关系\n",
    "#匹配以h或者H开头的字符串\n",
    "rs = re.match(\"[Hh]\", \"hello\")\n",
    "print(rs.group()) \n",
    "# 匹配0到9任意一个数字方法一\n",
    "rs = re.match(\"[0123456789]\", \"3\")\n",
    "print(rs.group())\n",
    "# 匹配0到9任意一个数字方法二\n",
    "rs = re.match(\"[0-9]\", \"3\")\n",
    "print(rs.group())\n",
    "rs = re.match(\"[Hh]\", \"Wello\")\n",
    "print(rs) "
   ]
  },
  {
   "cell_type": "code",
   "execution_count": 35,
   "metadata": {},
   "outputs": [
    {
     "name": "stdout",
     "output_type": "stream",
     "text": [
      "1234\n",
      "1234abc\n"
     ]
    }
   ],
   "source": [
    "rs = re.match(\"1\\d*\",\"1234abc\")  #匹配以1开头，后边是任意多个数字，数字有其他字符，也只匹配数字\n",
    "print(rs.group())\n",
    "rs = re.match(\"1\\w*\",\"1234abc\")  \n",
    "print(rs.group())"
   ]
  },
  {
   "cell_type": "code",
   "execution_count": 36,
   "metadata": {},
   "outputs": [
    {
     "name": "stdout",
     "output_type": "stream",
     "text": [
      "1\n",
      "123\n"
     ]
    }
   ],
   "source": [
    "rs = re.match(\"\\d+\",\"1abc\") #开头只出现1个数字，符合规则\n",
    "print(rs.group())\n",
    "rs = re.match(\"\\d+\",\"123abc\") #开头出现多个数字，符合规则\n",
    "print(rs.group())   \n",
    "#字符开头至少出现一个数字  +表示一个字符至少出现一次"
   ]
  },
  {
   "cell_type": "code",
   "execution_count": 38,
   "metadata": {},
   "outputs": [
    {
     "name": "stdout",
     "output_type": "stream",
     "text": [
      "1\n",
      "1\n",
      "2\n"
     ]
    }
   ],
   "source": [
    "rs = re.match(\"\\d?\",\"1abc\")\n",
    "print(rs.group())\n",
    "#开头数字至多出现一次\n",
    "rs = re.match(\"\\d?\",\"123abc\")  #在1之后的所有数字字符都不会匹配上\n",
    "print(rs.group())\n",
    "rs = re.match(\"\\d?\",\"23abc\")  #在2之后的所有数字字符都不会匹配上\n",
    "print(rs.group())\n",
    "#？表示一个字符至多出现一次"
   ]
  },
  {
   "cell_type": "code",
   "execution_count": 41,
   "metadata": {},
   "outputs": [
    {
     "name": "stdout",
     "output_type": "stream",
     "text": [
      "123\n",
      "<class 'NoneType'>\n",
      "123\n",
      "123\n",
      "1\n"
     ]
    },
    {
     "ename": "AttributeError",
     "evalue": "'NoneType' object has no attribute 'group'",
     "output_type": "error",
     "traceback": [
      "\u001b[1;31m---------------------------------------------------------------------------\u001b[0m",
      "\u001b[1;31mAttributeError\u001b[0m                            Traceback (most recent call last)",
      "\u001b[1;32m<ipython-input-41-461e9da0c4ad>\u001b[0m in \u001b[0;36m<module>\u001b[1;34m\u001b[0m\n\u001b[0;32m     11\u001b[0m \u001b[0mprint\u001b[0m\u001b[1;33m(\u001b[0m\u001b[0mrs\u001b[0m\u001b[1;33m.\u001b[0m\u001b[0mgroup\u001b[0m\u001b[1;33m(\u001b[0m\u001b[1;33m)\u001b[0m\u001b[1;33m)\u001b[0m\u001b[1;33m\u001b[0m\u001b[1;33m\u001b[0m\u001b[0m\n\u001b[0;32m     12\u001b[0m \u001b[0mrs\u001b[0m \u001b[1;33m=\u001b[0m \u001b[0mre\u001b[0m\u001b[1;33m.\u001b[0m\u001b[0mmatch\u001b[0m\u001b[1;33m(\u001b[0m\u001b[1;34m\"\\d{3}\"\u001b[0m\u001b[1;33m,\u001b[0m\u001b[1;34m\"abc1234\"\u001b[0m\u001b[1;33m)\u001b[0m  \u001b[1;31m#要连续出现3次数字\u001b[0m\u001b[1;33m\u001b[0m\u001b[1;33m\u001b[0m\u001b[0m\n\u001b[1;32m---> 13\u001b[1;33m \u001b[0mprint\u001b[0m\u001b[1;33m(\u001b[0m\u001b[0mrs\u001b[0m\u001b[1;33m.\u001b[0m\u001b[0mgroup\u001b[0m\u001b[1;33m(\u001b[0m\u001b[1;33m)\u001b[0m\u001b[1;33m)\u001b[0m\u001b[1;33m\u001b[0m\u001b[1;33m\u001b[0m\u001b[0m\n\u001b[0m",
      "\u001b[1;31mAttributeError\u001b[0m: 'NoneType' object has no attribute 'group'"
     ]
    }
   ],
   "source": [
    "rs = re.match(\"\\d{3}\",\"123abc\")  #要连续出现3次数字\n",
    "print(rs.group())\n",
    "#要连续出现4次数字，字符串中只出现了3次，与规则不匹配\n",
    "rs = re.match(\"\\d{4}\",\"123abc\")  \n",
    "print(type(rs))\n",
    "rs = re.match(\"\\d{0,}\",\"123abc\")  #等价于*，0次或者多次\n",
    "print(rs.group())\n",
    "rs = re.match(\"\\d{1,}\",\"123abc\")  #等价于+，至少出现一次\n",
    "print(rs.group())\n",
    "rs = re.match(\"\\d{0,1}\",\"123abc\") #等价于?，至多1次，0次或者1次\n",
    "print(rs.group())\n",
    "rs = re.match(\"\\d{3}\",\"abc1234\")  #要连续出现3次数字\n",
    "print(rs.group())"
   ]
  },
  {
   "cell_type": "markdown",
   "metadata": {},
   "source": [
    "Note:match()函数从头匹配，即找以“\\d,\\w”开头的字符串的值"
   ]
  },
  {
   "cell_type": "code",
   "execution_count": 54,
   "metadata": {},
   "outputs": [
    {
     "name": "stdout",
     "output_type": "stream",
     "text": [
      "None\n",
      "13578223987\n",
      "13578223987\n"
     ]
    }
   ],
   "source": [
    "rs = re.match(\"1[3578]\\d{9}\",\"35563223\")\n",
    "print(rs)\n",
    "rs = re.match(\"1[3578]\\d{0,9}\",\"13578223987\")\n",
    "print(rs.group())\n",
    "rs = re.match(\"1[3578]\\d{9}\",\"13578223987assc\")\n",
    "print(rs.group())"
   ]
  },
  {
   "cell_type": "markdown",
   "metadata": {},
   "source": [
    "^        匹配字符串开头\n",
    "$        匹配字符串结尾\n",
    "\\b        匹配一个单词的边界\n",
    "\\B        匹配非单词边界\n",
    "注意：边界字符只用于描述边界信息，不能用于字符的匹配。"
   ]
  },
  {
   "cell_type": "code",
   "execution_count": 52,
   "metadata": {},
   "outputs": [
    {
     "name": "stdout",
     "output_type": "stream",
     "text": [
      "None\n"
     ]
    }
   ],
   "source": [
    "rs = re.match(\"1[3578]\\d{9}$\",\"13578223987assc\")  #使用$限制匹配的字符串以11位数字组成，结尾不能添加其他字符\n",
    "print(rs)"
   ]
  },
  {
   "cell_type": "code",
   "execution_count": 57,
   "metadata": {},
   "outputs": [
    {
     "name": "stdout",
     "output_type": "stream",
     "text": [
      "<re.Match object; span=(0, 17), match='hello_123@163.com'>\n",
      "hello_123@163.com\n",
      "None\n",
      "None\n",
      "None\n",
      "<re.Match object; span=(0, 11), match='hel@163.com'>\n",
      "hel@163.com\n"
     ]
    }
   ],
   "source": [
    "#邮箱地址以4到10个单词字符开始，以@163.com结束\n",
    "rs = re.match(\"\\w{3,10}@163.com$\",\"hello_123@163.com\")\n",
    "print(rs)\n",
    "print(rs.group())\n",
    "rs = re.match(\"\\w{3,10}@163.com$\",\"he@163.com\")\n",
    "print(rs)\n",
    "rs = re.match(\"\\w{3,10}@163.com$\",\"hello_12345645@163.com\")\n",
    "print(rs)\n",
    "rs = re.match(\"\\w{3,10}@163.com$\",\"hello_123@163.comhaha\")\n",
    "print(rs)\n",
    "rs = re.match(\"\\w{3,10}@163.com$\",\"hel@163.com\")\n",
    "print(rs)\n",
    "print(rs.group())"
   ]
  },
  {
   "cell_type": "markdown",
   "metadata": {},
   "source": [
    "在正则表达式中“.”有特殊的含义，表示除\\n之外的任意字符\n",
    "\n",
    "解决办法：使用转义字符\\ 标识“.”是普通字符“.”"
   ]
  },
  {
   "cell_type": "code",
   "execution_count": 58,
   "metadata": {},
   "outputs": [
    {
     "name": "stdout",
     "output_type": "stream",
     "text": [
      "匹配结果1：<re.Match object; span=(0, 17), match='hello_123@163.com'>\n",
      "匹配结果2：None\n"
     ]
    }
   ],
   "source": [
    "rs = re.match(\"\\w{4,10}@163\\.com$\",\"hello_123@163.com\")\n",
    "print(\"匹配结果1：%s\"%rs)\n",
    "rs = re.match(\"\\w{4,10}@163\\.com$\",\"hello_123@163hcom\")\n",
    "print(\"匹配结果2：%s\"%rs)"
   ]
  },
  {
   "cell_type": "markdown",
   "metadata": {},
   "source": [
    "贪婪模式：\n",
    "\n",
    "正则引擎默认是贪婪模式，尽可能多的匹配字符。\n",
    "\n",
    "非贪婪模式\n",
    "\n",
    "与贪婪模式相反，尽可能少的匹配字符\n",
    "\n",
    "在表示数量的“*”,“?”,“+”,“{m,n}”符号后面加上?，使贪婪变成非贪婪。"
   ]
  },
  {
   "cell_type": "code",
   "execution_count": 59,
   "metadata": {},
   "outputs": [
    {
     "name": "stdout",
     "output_type": "stream",
     "text": [
      "['hello12345']\n",
      "['hello12345']\n",
      "['hello1']\n",
      "['hello12345']\n",
      "['hello123']\n"
     ]
    }
   ],
   "source": [
    "#greedy\n",
    "rs = re.findall(\"hello\\d*\", \"hello12345\") #任意多个数字\n",
    "print(rs)\n",
    "rs = re.findall(\"hello\\d+\", \"hello12345\")#至少出现一次数字\n",
    "print(rs)\n",
    "rs = re.findall(\"hello\\d?\", \"hello12345\")#至多出现一次数字\n",
    "print(rs)\n",
    "rs = re.findall(\"hello\\d{2,}\", \"hello12345\") #至少出现2次数字\n",
    "print(rs)\n",
    "rs = re.findall(\"hello\\d{1,3}\",\"hello12345\") #出现1到3次数字\n",
    "print(rs)"
   ]
  },
  {
   "cell_type": "code",
   "execution_count": 60,
   "metadata": {},
   "outputs": [
    {
     "name": "stdout",
     "output_type": "stream",
     "text": [
      "['hello']\n",
      "['hello1']\n",
      "['hello']\n",
      "['hello12']\n",
      "['hello1']\n"
     ]
    }
   ],
   "source": [
    "#非贪婪模式\n",
    "rs = re.findall(\"hello\\d*?\", \"hello12345\") #任意多个数字，也可以没有\n",
    "print(rs)\n",
    "rs = re.findall(\"hello\\d+?\", \"hello12345\") #至少一个，匹配了1个\n",
    "print(rs)\n",
    "rs = re.findall(\"hello\\d??\", \"hello12345\") #至多一个，可以没有\n",
    "print(rs)\n",
    "rs = re.findall(\"hello\\d{2,}?\", \"hello12345\") #最少两个，匹配了两个\n",
    "print(rs)\n",
    "rs = re.findall('hello\\d{1,3}?', 'hello12345') #1到3个，匹配了1个\n",
    "print(rs)"
   ]
  },
  {
   "cell_type": "code",
   "execution_count": 3,
   "metadata": {},
   "outputs": [
    {
     "name": "stdout",
     "output_type": "stream",
     "text": [
      "0.5370495669980353\n",
      "0.4621171572600098\n"
     ]
    }
   ],
   "source": [
    "import numpy as np\n",
    "\n",
    "def tanh(x):\n",
    "    s1 = np.exp(x)-np.exp(-x)\n",
    "    s2 = np.exp(x)+np.exp(-x)\n",
    "    return s1/s2\n",
    "\n",
    "print(tanh(0.6))\n",
    "print(tanh(0.5))"
   ]
  },
  {
   "cell_type": "code",
   "execution_count": 8,
   "metadata": {},
   "outputs": [
    {
     "name": "stdout",
     "output_type": "stream",
     "text": [
      "[0.537 0.462]\n"
     ]
    }
   ],
   "source": [
    "a = np.array([0.537,0.462])\n",
    "print(a)"
   ]
  },
  {
   "cell_type": "code",
   "execution_count": 14,
   "metadata": {},
   "outputs": [
    {
     "name": "stdout",
     "output_type": "stream",
     "text": [
      "[[1]\n",
      " [2]]\n"
     ]
    }
   ],
   "source": [
    "b = np.array([1,2]).reshape(2,1)\n",
    "print(b)"
   ]
  },
  {
   "cell_type": "code",
   "execution_count": 18,
   "metadata": {},
   "outputs": [
    {
     "data": {
      "text/plain": [
       "array([1.561])"
      ]
     },
     "execution_count": 18,
     "metadata": {},
     "output_type": "execute_result"
    }
   ],
   "source": [
    "a.dot(b)+0.1"
   ]
  },
  {
   "cell_type": "code",
   "execution_count": 91,
   "metadata": {},
   "outputs": [
    {
     "name": "stdout",
     "output_type": "stream",
     "text": [
      "[0.537 0.462 2.   ]\n"
     ]
    }
   ],
   "source": [
    "import numpy as np\n",
    "\n",
    "input = np.array([0.537,0.462,2])\n",
    "print(input)"
   ]
  },
  {
   "cell_type": "code",
   "execution_count": 92,
   "metadata": {},
   "outputs": [
    {
     "name": "stdout",
     "output_type": "stream",
     "text": [
      "[[0.1 0.2]\n",
      " [0.3 0.4]\n",
      " [0.5 0.6]]\n"
     ]
    }
   ],
   "source": [
    "c = np.array([[0.1,0.2],[0.3,0.4],[0.5,0.6]])\n",
    "print(c)"
   ]
  },
  {
   "cell_type": "code",
   "execution_count": 93,
   "metadata": {},
   "outputs": [
    {
     "name": "stdout",
     "output_type": "stream",
     "text": [
      "[1.1923 1.4922]\n"
     ]
    }
   ],
   "source": [
    "e = np.around(input.dot(c),decimals=4)\n",
    "print(e)"
   ]
  },
  {
   "cell_type": "code",
   "execution_count": 94,
   "metadata": {},
   "outputs": [
    {
     "name": "stdout",
     "output_type": "stream",
     "text": [
      "[ 0.1 -0.1]\n"
     ]
    }
   ],
   "source": [
    "d = np.array([0.1, -0.1])\n",
    "print(d)"
   ]
  },
  {
   "cell_type": "code",
   "execution_count": 95,
   "metadata": {},
   "outputs": [
    {
     "name": "stdout",
     "output_type": "stream",
     "text": [
      "[1.2923 1.3922]\n"
     ]
    }
   ],
   "source": [
    "f =np.around( d+e ,decimals =4)\n",
    "print(f)"
   ]
  },
  {
   "cell_type": "code",
   "execution_count": 97,
   "metadata": {},
   "outputs": [
    {
     "name": "stdout",
     "output_type": "stream",
     "text": [
      "0.8599102207898326\n",
      "0.8836101308401345\n"
     ]
    }
   ],
   "source": [
    "import numpy as np\n",
    "\n",
    "def tanh(x):\n",
    "    s1 = np.exp(x)-np.exp(-x)\n",
    "    s2 = np.exp(x)+np.exp(-x)\n",
    "    return s1/s2\n",
    "\n",
    "print(tanh(1.293))\n",
    "print(tanh(1.392))"
   ]
  },
  {
   "cell_type": "code",
   "execution_count": 98,
   "metadata": {},
   "outputs": [
    {
     "name": "stdout",
     "output_type": "stream",
     "text": [
      "[0.8599 0.8836]\n",
      "[[1]\n",
      " [2]]\n"
     ]
    }
   ],
   "source": [
    "h1 = np.array([0.8599,0.8836])\n",
    "print(h1)\n",
    "b = np.array([1,2]).reshape(2,1)\n",
    "print(b)"
   ]
  },
  {
   "cell_type": "code",
   "execution_count": 99,
   "metadata": {},
   "outputs": [
    {
     "data": {
      "text/plain": [
       "array([2.7271])"
      ]
     },
     "execution_count": 99,
     "metadata": {},
     "output_type": "execute_result"
    }
   ],
   "source": [
    "h1.dot(b)+0.1"
   ]
  },
  {
   "cell_type": "code",
   "execution_count": 100,
   "metadata": {},
   "outputs": [
    {
     "data": {
      "text/plain": [
       "False"
      ]
     },
     "execution_count": 100,
     "metadata": {},
     "output_type": "execute_result"
    }
   ],
   "source": [
    "a = 2.3\n",
    "isinstance(a,int)"
   ]
  },
  {
   "cell_type": "code",
   "execution_count": 101,
   "metadata": {},
   "outputs": [
    {
     "data": {
      "text/plain": [
       "False"
      ]
     },
     "execution_count": 101,
     "metadata": {},
     "output_type": "execute_result"
    }
   ],
   "source": [
    "a = 2.3\n",
    "isinstance(a,str)"
   ]
  },
  {
   "cell_type": "code",
   "execution_count": 102,
   "metadata": {},
   "outputs": [
    {
     "data": {
      "text/plain": [
       "True"
      ]
     },
     "execution_count": 102,
     "metadata": {},
     "output_type": "execute_result"
    }
   ],
   "source": [
    "a = 2.3\n",
    "isinstance(a,float)"
   ]
  },
  {
   "cell_type": "code",
   "execution_count": 138,
   "metadata": {},
   "outputs": [
    {
     "name": "stdout",
     "output_type": "stream",
     "text": [
      "cookdat skel\n",
      " hojmlm sd\n",
      "['cookdat skel\\n hojmlm sd']\n"
     ]
    }
   ],
   "source": [
    "s = \"cookdat skel\\n hojmlm sd\"\n",
    "print(s.strip())\n",
    "print(s.split(\"\\t\"))"
   ]
  },
  {
   "cell_type": "code",
   "execution_count": 110,
   "metadata": {},
   "outputs": [
    {
     "data": {
      "text/plain": [
       "list"
      ]
     },
     "execution_count": 110,
     "metadata": {},
     "output_type": "execute_result"
    }
   ],
   "source": [
    "s = \"cookdat skel\"\n",
    "type(s.split(\"\\t\"))"
   ]
  },
  {
   "cell_type": "code",
   "execution_count": 112,
   "metadata": {},
   "outputs": [
    {
     "name": "stdout",
     "output_type": "stream",
     "text": [
      "name\tnumber\tid\tcard\t\n",
      "zhangsan\t2\t79898\tjokao\t\n"
     ]
    }
   ],
   "source": [
    "s1 = \"name\\tnumber\\tid\\tcard\\t\"\n",
    "s2 = \"zhangsan\\t2\\t79898\\tjokao\\t\"\n",
    "print(s1)\n",
    "print(s2)"
   ]
  },
  {
   "cell_type": "code",
   "execution_count": 113,
   "metadata": {},
   "outputs": [
    {
     "name": "stdout",
     "output_type": "stream",
     "text": [
      "cookdata is No.1\n"
     ]
    }
   ],
   "source": [
    "s=\"cookdata\"\n",
    "print('%s is No.%d' %(s,1))"
   ]
  },
  {
   "cell_type": "code",
   "execution_count": 116,
   "metadata": {},
   "outputs": [
    {
     "name": "stdout",
     "output_type": "stream",
     "text": [
      "cookdata is No.1\n"
     ]
    }
   ],
   "source": [
    "print(\"{} is No.{}\".format(s,1))"
   ]
  },
  {
   "cell_type": "code",
   "execution_count": 117,
   "metadata": {},
   "outputs": [
    {
     "name": "stdout",
     "output_type": "stream",
     "text": [
      "1 is No.cookdata\n"
     ]
    }
   ],
   "source": [
    "print(\"{1} is No.{0}\".format(s,1))"
   ]
  },
  {
   "cell_type": "code",
   "execution_count": 119,
   "metadata": {},
   "outputs": [
    {
     "name": "stdout",
     "output_type": "stream",
     "text": [
      "{'o', 'k', 'c'}\n"
     ]
    }
   ],
   "source": [
    "e = {'c','o','k'}\n",
    "print(e)"
   ]
  },
  {
   "cell_type": "code",
   "execution_count": 121,
   "metadata": {},
   "outputs": [
    {
     "name": "stdout",
     "output_type": "stream",
     "text": [
      "{'r', 'o', 'k', 'c'}\n"
     ]
    }
   ],
   "source": [
    "e.add('r')\n",
    "print(e)"
   ]
  },
  {
   "cell_type": "code",
   "execution_count": 122,
   "metadata": {},
   "outputs": [],
   "source": [
    "e?"
   ]
  },
  {
   "cell_type": "code",
   "execution_count": 125,
   "metadata": {},
   "outputs": [],
   "source": [
    "tuple??"
   ]
  },
  {
   "cell_type": "code",
   "execution_count": 126,
   "metadata": {},
   "outputs": [
    {
     "data": {
      "text/plain": [
       "'c o o k'"
      ]
     },
     "execution_count": 126,
     "metadata": {},
     "output_type": "execute_result"
    }
   ],
   "source": [
    "\" \".join(['c','o','o','k'])"
   ]
  },
  {
   "cell_type": "code",
   "execution_count": 130,
   "metadata": {},
   "outputs": [
    {
     "data": {
      "text/plain": [
       "'cooking meals'"
      ]
     },
     "execution_count": 130,
     "metadata": {},
     "output_type": "execute_result"
    }
   ],
   "source": [
    "\" \".join([\"cooking\",\"meals\"])"
   ]
  },
  {
   "cell_type": "code",
   "execution_count": 134,
   "metadata": {},
   "outputs": [
    {
     "name": "stdout",
     "output_type": "stream",
     "text": [
      "a-b-c\n"
     ]
    }
   ],
   "source": [
    "str = \"-\"\n",
    "seq = (\"a\", \"b\", \"c\") # 字符串序列\n",
    "print (str.join( seq ))"
   ]
  },
  {
   "cell_type": "code",
   "execution_count": 135,
   "metadata": {},
   "outputs": [],
   "source": [
    "list?"
   ]
  },
  {
   "cell_type": "code",
   "execution_count": 139,
   "metadata": {},
   "outputs": [
    {
     "name": "stdout",
     "output_type": "stream",
     "text": [
      "7\n"
     ]
    }
   ],
   "source": [
    "def sum(x,y):\n",
    "    return x+y\n",
    "e=sum(3,4)\n",
    "print(e)"
   ]
  },
  {
   "cell_type": "code",
   "execution_count": 140,
   "metadata": {},
   "outputs": [],
   "source": [
    "e?"
   ]
  },
  {
   "cell_type": "code",
   "execution_count": 145,
   "metadata": {},
   "outputs": [],
   "source": [
    "sum?"
   ]
  },
  {
   "cell_type": "code",
   "execution_count": 146,
   "metadata": {},
   "outputs": [],
   "source": [
    "sum??"
   ]
  },
  {
   "cell_type": "code",
   "execution_count": 152,
   "metadata": {},
   "outputs": [
    {
     "data": {
      "text/plain": [
       "0"
      ]
     },
     "execution_count": 152,
     "metadata": {},
     "output_type": "execute_result"
    }
   ],
   "source": [
    "t = ('c','o','o','k')\n",
    "e = ('c','o','k')\n",
    "t.index('c')"
   ]
  },
  {
   "cell_type": "code",
   "execution_count": 153,
   "metadata": {},
   "outputs": [
    {
     "data": {
      "text/plain": [
       "True"
      ]
     },
     "execution_count": 153,
     "metadata": {},
     "output_type": "execute_result"
    }
   ],
   "source": [
    "t = {'c','o','o','k'}\n",
    "e = {'c','o','k'}\n",
    "e.issubset(t)"
   ]
  },
  {
   "cell_type": "code",
   "execution_count": 154,
   "metadata": {},
   "outputs": [
    {
     "name": "stdout",
     "output_type": "stream",
     "text": [
      "cookdat skel\t hojmlm sd\t sncldnmc\n",
      "['cookdat skel', ' hojmlm sd', ' sncldnmc']\n"
     ]
    }
   ],
   "source": [
    "s = \"cookdat skel\\t hojmlm sd\\t sncldnmc\"\n",
    "print(s.strip())\n",
    "print(s.split(\"\\t\"))"
   ]
  },
  {
   "cell_type": "code",
   "execution_count": 171,
   "metadata": {},
   "outputs": [
    {
     "name": "stdout",
     "output_type": "stream",
     "text": [
      "3053842763016\n",
      "3053842761928\n",
      "3053842847496\n"
     ]
    },
    {
     "data": {
      "text/plain": [
       "False"
      ]
     },
     "execution_count": 171,
     "metadata": {},
     "output_type": "execute_result"
    }
   ],
   "source": [
    "class Car:\n",
    "    def __init__(self, item):\n",
    "        self.item = item\n",
    "    def getColor(self):\n",
    "        return self.color\n",
    "    def getSize(self):\n",
    "        return self.size\n",
    "    \n",
    "c1 = Car(1)\n",
    "print(id(p1))\n",
    "print(id(p2))\n",
    "print(id(p3))\n",
    "p1 == p3"
   ]
  },
  {
   "cell_type": "code",
   "execution_count": 174,
   "metadata": {},
   "outputs": [],
   "source": [
    "from functools import reduce\n",
    "\n",
    "DIGITS = {'0': 0, '1': 1, '2': 2, '3': 3, '4': 4, '5': 5, '6': 6, '7': 7, '8': 8, '9': 9}\n",
    "\n",
    "def char2num(s):\n",
    "    return DIGITS[s]\n",
    "\n",
    "def str2int(s):\n",
    "    return reduce(lambda x, y: x * 10 + y, map(char2num, s))"
   ]
  },
  {
   "cell_type": "code",
   "execution_count": 175,
   "metadata": {},
   "outputs": [
    {
     "data": {
      "text/plain": [
       "13579"
      ]
     },
     "execution_count": 175,
     "metadata": {},
     "output_type": "execute_result"
    }
   ],
   "source": [
    "from functools import reduce\n",
    "def fn(x, y):\n",
    "     return x * 10 + y\n",
    "\n",
    "def char2num(s):\n",
    "     digits = {'0': 0, '1': 1, '2': 2, '3': 3, '4': 4, '5': 5, '6': 6, '7': 7, '8': 8, '9': 9}\n",
    "     return digits[s]\n",
    "\n",
    "reduce(fn, map(char2num, '13579'))"
   ]
  },
  {
   "cell_type": "code",
   "execution_count": 180,
   "metadata": {},
   "outputs": [
    {
     "name": "stdout",
     "output_type": "stream",
     "text": [
      "{<__main__.Vertex object at 0x000002C707345688>, <__main__.Vertex object at 0x000002C707345E88>, <__main__.Vertex object at 0x000002C707345C88>}\n"
     ]
    }
   ],
   "source": [
    "class Vertex:\n",
    "    #顶点类\n",
    "    def __init__(self,vid):\n",
    "        self.vid = vid\n",
    "\n",
    "v1=Vertex(1)\n",
    "v2=Vertex(2)\n",
    "v3=Vertex(3)\n",
    "\n",
    "print(set([v1,v2,v3]))"
   ]
  },
  {
   "cell_type": "code",
   "execution_count": 184,
   "metadata": {},
   "outputs": [
    {
     "name": "stdout",
     "output_type": "stream",
     "text": [
      "{<__main__.A object at 0x000002C7073843C8>}\n"
     ]
    }
   ],
   "source": [
    "class A:\n",
    "    def __init__(self, name, sex, age):\n",
    "        self.name = name\n",
    "        self.sex = sex\n",
    "        self.age = age\n",
    "     \n",
    "    def __hash__(self):\n",
    "        return hash(self.name + self.sex)\n",
    "    \n",
    "    def __eq__(self, other):       \n",
    "        if self.name == other.name and self.sex == other.sex:\n",
    "            return True\n",
    "        return False\n",
    " \n",
    " \n",
    "a = A(\"egg\", \"nan\", 18)\n",
    "b = A(\"egg\", \"nan\", 18)\n",
    "print(set((a, b)))  # set 依赖对象的hash eq 方法"
   ]
  },
  {
   "cell_type": "code",
   "execution_count": 192,
   "metadata": {},
   "outputs": [
    {
     "name": "stdout",
     "output_type": "stream",
     "text": [
      "Zhang\n",
      "False\n",
      "Li\n",
      "False\n"
     ]
    }
   ],
   "source": [
    "class Person:\n",
    "    def __init__(self, name, age):\n",
    "        self.name = name\n",
    "        self.age = age\n",
    " \n",
    "    #def __hash__(self):\n",
    "    #    print(self.name)\n",
    "    #    return hash(self.name)\n",
    " \n",
    "    def __eq__(self, other):\n",
    "        print(self.name)\n",
    "        #return self.__dict__ == other.__dict__\n",
    "        return False\n",
    " \n",
    " \n",
    "person1 = Person('Zhang', 20)\n",
    "person2 = Person('Li', 20)\n",
    "person3 = Person('Wang', 30)\n",
    "person4 = Person('Zhang', 20)\n",
    " \n",
    "print(person1 == person4)\n",
    "print(person2 == person3)\n",
    "\n"
   ]
  },
  {
   "cell_type": "code",
   "execution_count": 195,
   "metadata": {},
   "outputs": [
    {
     "name": "stdout",
     "output_type": "stream",
     "text": [
      "[1, 4, 9, 16, 25]\n"
     ]
    }
   ],
   "source": [
    "print(list(map(lambda a:a**2,[1,2,3,4,5])))"
   ]
  },
  {
   "cell_type": "code",
   "execution_count": 199,
   "metadata": {},
   "outputs": [
    {
     "data": {
      "text/plain": [
       "26"
      ]
     },
     "execution_count": 199,
     "metadata": {},
     "output_type": "execute_result"
    }
   ],
   "source": [
    "reduce(lambda x,y:x*2+y,[1,2,3,4])"
   ]
  },
  {
   "cell_type": "code",
   "execution_count": 206,
   "metadata": {},
   "outputs": [
    {
     "data": {
      "text/plain": [
       "True"
      ]
     },
     "execution_count": 206,
     "metadata": {},
     "output_type": "execute_result"
    }
   ],
   "source": [
    "a = 2\n",
    "isinstance(a, int)"
   ]
  },
  {
   "cell_type": "code",
   "execution_count": 214,
   "metadata": {},
   "outputs": [],
   "source": [
    "def is_real_number(x):\n",
    "    if isinstance(x,float):\n",
    "        return x"
   ]
  },
  {
   "cell_type": "code",
   "execution_count": 216,
   "metadata": {},
   "outputs": [
    {
     "data": {
      "text/plain": [
       "[3.5, 7.5]"
      ]
     },
     "execution_count": 216,
     "metadata": {},
     "output_type": "execute_result"
    }
   ],
   "source": [
    "list(filter(is_real_number,[1,2,3.5,4,5,6,7.5]))"
   ]
  },
  {
   "cell_type": "code",
   "execution_count": 221,
   "metadata": {},
   "outputs": [
    {
     "name": "stdout",
     "output_type": "stream",
     "text": [
      "100\n",
      "100\n",
      "200\n",
      "600\n",
      "700\n"
     ]
    }
   ],
   "source": [
    "class TestClass(object):\n",
    "  classval1 = 100   #类变量\n",
    "  def __init__(self):\n",
    "    self.memval2 = 200   #成员变量\n",
    "    self.memfuntion2(600)\n",
    "  def memfuntion1(self,val = 400):\n",
    "    localval3 = 300    #函数内部的局部变量\n",
    "    self.nmval4 = val\n",
    "    self.nmval5=500\n",
    "  def memfuntion2(self,val = 600):\n",
    "    self.memval6 = val\n",
    "    self.memval7=700\n",
    "if __name__ == '__main__':\n",
    "    inst = TestClass()\n",
    "    print(TestClass.classval1)\n",
    "    print(inst.classval1)\n",
    "    print(inst.memval2)\n",
    "    #print(inst.localval3)\n",
    "    #print(inst.nmval4)\n",
    "    #print(inst.nmval5)\n",
    "    print(inst.memval6)\n",
    "    print(inst.memval7)"
   ]
  },
  {
   "cell_type": "code",
   "execution_count": 227,
   "metadata": {},
   "outputs": [
    {
     "name": "stdout",
     "output_type": "stream",
     "text": [
      "0\n",
      "0\n",
      "1\n",
      "2\n",
      "4\n"
     ]
    },
    {
     "ename": "AttributeError",
     "evalue": "'TestClass' object has no attribute 'membervar4'",
     "output_type": "error",
     "traceback": [
      "\u001b[1;31m---------------------------------------------------------------------------\u001b[0m",
      "\u001b[1;31mAttributeError\u001b[0m                            Traceback (most recent call last)",
      "\u001b[1;32m<ipython-input-227-9f9f66426953>\u001b[0m in \u001b[0;36m<module>\u001b[1;34m\u001b[0m\n\u001b[0;32m     19\u001b[0m     \u001b[0mprint\u001b[0m\u001b[1;33m(\u001b[0m\u001b[0mobject\u001b[0m\u001b[1;33m.\u001b[0m\u001b[0mmembervar2\u001b[0m\u001b[1;33m)\u001b[0m\u001b[1;33m\u001b[0m\u001b[1;33m\u001b[0m\u001b[0m\n\u001b[0;32m     20\u001b[0m     \u001b[0mprint\u001b[0m\u001b[1;33m(\u001b[0m\u001b[0mobject\u001b[0m\u001b[1;33m.\u001b[0m\u001b[0mmembervar3\u001b[0m\u001b[1;33m)\u001b[0m\u001b[1;33m\u001b[0m\u001b[1;33m\u001b[0m\u001b[0m\n\u001b[1;32m---> 21\u001b[1;33m     \u001b[0mprint\u001b[0m\u001b[1;33m(\u001b[0m\u001b[0mobject\u001b[0m\u001b[1;33m.\u001b[0m\u001b[0mmembervar4\u001b[0m\u001b[1;33m)\u001b[0m\u001b[1;33m\u001b[0m\u001b[1;33m\u001b[0m\u001b[0m\n\u001b[0m",
      "\u001b[1;31mAttributeError\u001b[0m: 'TestClass' object has no attribute 'membervar4'"
     ]
    }
   ],
   "source": [
    "class TestClass:\n",
    "    classvar = 0  #类变量\n",
    "    def __init__(self):\n",
    "        self.membervar1 = 1  #membervar1，membervar2成员变量，可以访问\n",
    "        self.membervar2 = 2\n",
    "        self.member_function1(5)\n",
    "    def member_function1(self, x):\n",
    "        local_var1 = 8  #函数内部的局部变量\n",
    "        self.membervar3 = 4   \n",
    "        x += 1\n",
    "    def member_function2(self,y):\n",
    "        local_var2 = 9\n",
    "        self.membervar4 = 5  \n",
    "if __name__ == \"__main__\":\n",
    "    print(TestClass.classvar)\n",
    "    object = TestClass()\n",
    "    print(object.classvar)\n",
    "    print(object.membervar1) \n",
    "    print(object.membervar2)\n",
    "    print(object.membervar3)\n",
    "    #print(object.membervar4)  #bmembervar不是成员变量"
   ]
  },
  {
   "cell_type": "code",
   "execution_count": 218,
   "metadata": {},
   "outputs": [
    {
     "name": "stdout",
     "output_type": "stream",
     "text": [
      "100\n",
      "200\n",
      "100\n",
      "100\n",
      "100\n",
      "-1\n",
      "-2\n"
     ]
    },
    {
     "ename": "TypeError",
     "evalue": "classfun() missing 1 required positional argument: 'cls'",
     "output_type": "error",
     "traceback": [
      "\u001b[1;31m---------------------------------------------------------------------------\u001b[0m",
      "\u001b[1;31mTypeError\u001b[0m                                 Traceback (most recent call last)",
      "\u001b[1;32m<ipython-input-218-f4b24aa8d75d>\u001b[0m in \u001b[0;36m<module>\u001b[1;34m\u001b[0m\n\u001b[0;32m     32\u001b[0m     \u001b[0mTest\u001b[0m\u001b[1;33m.\u001b[0m\u001b[0mvalue1\u001b[0m \u001b[1;33m=\u001b[0m \u001b[1;36m333\u001b[0m\u001b[1;33m\u001b[0m\u001b[1;33m\u001b[0m\u001b[0m\n\u001b[0;32m     33\u001b[0m     \u001b[0mprint\u001b[0m\u001b[1;33m(\u001b[0m\u001b[1;34m\"-2\"\u001b[0m\u001b[1;33m)\u001b[0m\u001b[1;33m\u001b[0m\u001b[1;33m\u001b[0m\u001b[0m\n\u001b[1;32m---> 34\u001b[1;33m     \u001b[0mTest\u001b[0m\u001b[1;33m.\u001b[0m\u001b[0mclassfun\u001b[0m\u001b[1;33m(\u001b[0m\u001b[1;33m)\u001b[0m\u001b[1;33m\u001b[0m\u001b[1;33m\u001b[0m\u001b[0m\n\u001b[0m\u001b[0;32m     35\u001b[0m     \u001b[0mprint\u001b[0m\u001b[1;33m(\u001b[0m\u001b[1;34m\"-3\"\u001b[0m\u001b[1;33m)\u001b[0m\u001b[1;33m\u001b[0m\u001b[1;33m\u001b[0m\u001b[0m\n\u001b[0;32m     36\u001b[0m     \u001b[0mTest\u001b[0m\u001b[1;33m.\u001b[0m\u001b[0mstaticfun\u001b[0m\u001b[1;33m(\u001b[0m\u001b[1;33m)\u001b[0m\u001b[1;33m\u001b[0m\u001b[1;33m\u001b[0m\u001b[0m\n",
      "\u001b[1;31mTypeError\u001b[0m: classfun() missing 1 required positional argument: 'cls'"
     ]
    }
   ],
   "source": [
    "class Test(object):\n",
    "    value1 = 100    #静态成员变量\n",
    "    \n",
    "    def __init__(self):      #构造函数\n",
    "        self.value1 = 100    #成员变量value1,此处的value1和静态的value1不是同一个变量\n",
    "        self.value2 = 200    #成员变量value2\n",
    " \n",
    "    def getValue(self):     #类函数\n",
    "        print(self.value1)    \n",
    "        print(self.value2)  \n",
    " \n",
    "    def setValue(self):    #类函数\n",
    "        self.value1 = 1\n",
    "        self.value2 = 2   \n",
    "\n",
    "    def classfun(cls):    #类方法\n",
    "        print(Test.value1)\n",
    "        print(cls.value1)    #可以使用参数cls来访问静态成员变量，也可以使用 \"类名.静态成员变量\"访问\n",
    "        #print(cls.value2)   error  // 在类方法中和C++一样， 不能使用非静态成员变量\n",
    " \n",
    "    @staticmethod\n",
    "    def staticfun():        #类静态方法\n",
    "        print(Test.value1)  \n",
    "        #print(Test.value2) error  // 在类的静态成员函数中和C++一样， 不能使用非静态成员变量 \n",
    " \n",
    "if __name__ == \"__main__\":\n",
    "    obj1 = Test()\n",
    "    obj1.getValue()\n",
    "    obj1.classfun()\n",
    "    obj1.staticfun()\n",
    "    print(\"-1\")\n",
    "    Test.value1 = 333\n",
    "    print(\"-2\")\n",
    "    Test.classfun()\n",
    "    print(\"-3\")\n",
    "    Test.staticfun()\n",
    "    print(\"-4\")\n",
    "    obj2 = Test()\n",
    "    print(\"-5\")\n",
    "    obj2.setValue()\n",
    "    print(\"-6\")\n",
    "    obj2.getValue()\n",
    "    print(\"-7\")\n",
    "    obj1.getValue()\n",
    "    Test.staticfun()"
   ]
  },
  {
   "cell_type": "markdown",
   "metadata": {},
   "source": [
    "name | list | tuple | set | dict\n",
    ":-: | :-: | :-: | :-: | :-:\n",
    "可否读写 | 读写 | 只读 | 读写 | 读写| \n",
    "可否重复 | 是| 是 | 是 | 否|\n",
    "存储对象 | value | value | key（不能重复）| 键值对(key-value pairs)（键不能重复）\n",
    "是否有序 | 有序 | 有序 | 无序 | 无序，有序的用collections.OrderedDict()\n",
    "初始化 | [1,2] | (1,2) | {1,2} | {'a':1, 'b':2}\n",
    "添加元素 | append(),extend(),insert()插入j，oin()拼接 | 只读 | add() | dict['key'] = value\n",
    "删除元素 | pop(),remove(),del | 只读 | discard() | pop('key'),popitem()\n",
    "读取元素 | list[1:2] | t[0] | 无 | dict['key'],get('key')"
   ]
  },
  {
   "cell_type": "code",
   "execution_count": 247,
   "metadata": {},
   "outputs": [
    {
     "name": "stdout",
     "output_type": "stream",
     "text": [
      "我的博客地址\n",
      "{'alexa': 10000, 'url': 'http://blog.csdn.net/uuihoo/', 'c': 2}\n"
     ]
    }
   ],
   "source": [
    "\n",
    "site= {'name': '我的博客地址', 'alexa': 10000, 'url':'http://blog.csdn.net/uuihoo/','c':2}\n",
    "pop_obj=site.pop('name') # 删除要删除的键值对，如{'name':'我的博客地址'}这个键值对\n",
    "print(pop_obj)\n",
    "print(site)"
   ]
  },
  {
   "cell_type": "code",
   "execution_count": 248,
   "metadata": {},
   "outputs": [
    {
     "name": "stdout",
     "output_type": "stream",
     "text": [
      "{'alexa': 10000, 'url': 'http://blog.csdn.net/uuihoo/'}\n"
     ]
    }
   ],
   "source": [
    "pop_obj=site.popitem()\n",
    "print(site)"
   ]
  },
  {
   "cell_type": "code",
   "execution_count": 241,
   "metadata": {},
   "outputs": [
    {
     "name": "stdout",
     "output_type": "stream",
     "text": [
      "{'alexa': 10000, 'url': 'http://blog.csdn.net/uuihoo/'}\n"
     ]
    }
   ],
   "source": [
    "site= {'name': '我的博客地址', 'alexa': 10000, 'url':'http://blog.csdn.net/uuihoo/'}\n",
    "del site['name'] # 删除键是'name'的条目 \n",
    "print(site)"
   ]
  },
  {
   "cell_type": "code",
   "execution_count": 246,
   "metadata": {},
   "outputs": [],
   "source": [
    "site= {'name': '我的博客地址', 'alexa': 10000, 'url':'http://blog.csdn.net/uuihoo/'}\n",
    "del site  # 清空字典所有条目"
   ]
  },
  {
   "cell_type": "code",
   "execution_count": 250,
   "metadata": {},
   "outputs": [
    {
     "data": {
      "text/plain": [
       "1"
      ]
     },
     "execution_count": 250,
     "metadata": {},
     "output_type": "execute_result"
    }
   ],
   "source": [
    "t = (1, 2, 3, 4)\n",
    "t[0]"
   ]
  },
  {
   "cell_type": "code",
   "execution_count": 251,
   "metadata": {},
   "outputs": [
    {
     "data": {
      "text/plain": [
       "[1, 2, 3, 4, 5, 6, 7, 8]"
      ]
     },
     "execution_count": 251,
     "metadata": {},
     "output_type": "execute_result"
    }
   ],
   "source": [
    "l1 = [1,2,3,4]\n",
    "l2 = [5,6,7,8]\n",
    "l1+l2"
   ]
  },
  {
   "cell_type": "code",
   "execution_count": 292,
   "metadata": {},
   "outputs": [
    {
     "name": "stdout",
     "output_type": "stream",
     "text": [
      "conflict\n",
      "False\n",
      "True\n",
      "False\n",
      "True\n",
      "True\n"
     ]
    }
   ],
   "source": [
    "import keyword,string\n",
    "\n",
    "def Identifier(s):\n",
    "    kw = keyword.kwlist #内置关键字\n",
    "    bifs = dir(__builtins__) # Bifs,内建函数列表\n",
    "    #请用if-else完成检测，打印conflict或者False \n",
    "    #your code here\n",
    "    letter = string.ascii_letters\n",
    "    digit = string.digits\n",
    "    if s in kw or s in bifs:\n",
    "        print(\"conflict\")\n",
    "    elif s[0] == '_' or s[0] in letter:\n",
    "        for i in s[1:]:\n",
    "            if i == '_' or i in letter or i in digit:\n",
    "                pass\n",
    "            else:\n",
    "                print(\"False\")\n",
    "        print(\"True\")\n",
    "    else:\n",
    "        print(\"False\")\n",
    "        \n",
    "    \n",
    "    #return \n",
    "Identifier(\"list\")\n",
    "Identifier(\"abc#\")\n",
    "Identifier(\"1a\")\n",
    "Identifier(\"a1\")\n",
    "Identifier(\"_a1\")"
   ]
  },
  {
   "cell_type": "code",
   "execution_count": 271,
   "metadata": {},
   "outputs": [
    {
     "ename": "TypeError",
     "evalue": "'list' object is not callable",
     "output_type": "error",
     "traceback": [
      "\u001b[1;31m---------------------------------------------------------------------------\u001b[0m",
      "\u001b[1;31mTypeError\u001b[0m                                 Traceback (most recent call last)",
      "\u001b[1;32m<ipython-input-271-47d224c4a181>\u001b[0m in \u001b[0;36m<module>\u001b[1;34m\u001b[0m\n\u001b[0;32m     24\u001b[0m         \u001b[0mprint\u001b[0m\u001b[1;33m(\u001b[0m\u001b[1;34m\"False\"\u001b[0m\u001b[1;33m)\u001b[0m\u001b[1;31m#否则false\u001b[0m\u001b[1;33m\u001b[0m\u001b[1;33m\u001b[0m\u001b[0m\n\u001b[0;32m     25\u001b[0m \u001b[1;32mif\u001b[0m \u001b[0m__name__\u001b[0m \u001b[1;33m==\u001b[0m \u001b[1;34m'__main__'\u001b[0m\u001b[1;33m:\u001b[0m\u001b[1;31m#防止在被其他文件导入时显示多余的程序主体部分\u001b[0m\u001b[1;33m\u001b[0m\u001b[1;33m\u001b[0m\u001b[0m\n\u001b[1;32m---> 26\u001b[1;33m     \u001b[0mmain\u001b[0m\u001b[1;33m(\u001b[0m\u001b[1;33m)\u001b[0m\u001b[1;33m\u001b[0m\u001b[1;33m\u001b[0m\u001b[0m\n\u001b[0m",
      "\u001b[1;32m<ipython-input-271-47d224c4a181>\u001b[0m in \u001b[0;36mmain\u001b[1;34m()\u001b[0m\n\u001b[0;32m     18\u001b[0m         \u001b[1;32mreturn\u001b[0m \u001b[1;36m0\u001b[0m \u001b[1;31m#33t\u001b[0m\u001b[1;33m\u001b[0m\u001b[1;33m\u001b[0m\u001b[0m\n\u001b[0;32m     19\u001b[0m \u001b[1;32mdef\u001b[0m \u001b[0mmain\u001b[0m\u001b[1;33m(\u001b[0m\u001b[1;33m)\u001b[0m\u001b[1;33m:\u001b[0m\u001b[1;33m\u001b[0m\u001b[1;33m\u001b[0m\u001b[0m\n\u001b[1;32m---> 20\u001b[1;33m     \u001b[0ms\u001b[0m \u001b[1;33m=\u001b[0m \u001b[0minput\u001b[0m\u001b[1;33m(\u001b[0m\u001b[1;33m)\u001b[0m \u001b[1;31m#接收一个字符串参数\u001b[0m\u001b[1;33m\u001b[0m\u001b[1;33m\u001b[0m\u001b[0m\n\u001b[0m\u001b[0;32m     21\u001b[0m     \u001b[1;32mif\u001b[0m \u001b[0mis_signal\u001b[0m\u001b[1;33m(\u001b[0m\u001b[0ms\u001b[0m\u001b[1;33m)\u001b[0m \u001b[1;33m==\u001b[0m \u001b[1;36m1\u001b[0m\u001b[1;33m:\u001b[0m\u001b[1;31m#如果判断标识符合法的函数返回1\u001b[0m\u001b[1;33m\u001b[0m\u001b[1;33m\u001b[0m\u001b[0m\n\u001b[0;32m     22\u001b[0m         \u001b[0mprint\u001b[0m\u001b[1;33m(\u001b[0m\u001b[1;34m\"True\"\u001b[0m\u001b[1;33m)\u001b[0m\u001b[1;31m#打印true\u001b[0m\u001b[1;33m\u001b[0m\u001b[1;33m\u001b[0m\u001b[0m\n",
      "\u001b[1;31mTypeError\u001b[0m: 'list' object is not callable"
     ]
    }
   ],
   "source": [
    "import keyword #需要使用内置的关键字模块\n",
    "import string  #需要使用字符串模块\n",
    "import builtins #导入内置函数模块\n",
    "def is_signal(s): #定义判别函数，接收的参数是main中的s \n",
    "    kw = keyword.kwlist #kw是内置关键字的列表，如：'True', 'and', 'as'\n",
    "    bi = dir(__builtin__) #bi是内建函数名称列表，如'__package__', '__spec__', 'abs'，内建函数与关键字不同，\n",
    "    if s in kw or s in bi:#如果字符串在关键字列表中或内建函数中,则显示冲突\n",
    "        print ('conflict')\n",
    "        return 0      \n",
    "    elif s[0] == '_' or s[0] in string.ascii_letters: # 判断是否为字母或下划线开头\n",
    "        for i in s:\n",
    "            if i == '_' or i in string.ascii_letters or i in string.digits: # 判断是否由字母数字或下划线组成，\n",
    "                pass  #u_88,_rr,\n",
    "            else:\n",
    "                return 0  #%$#\n",
    "        return 1\n",
    "    else:\n",
    "        return 0 #33t\n",
    "def main():\n",
    "    s = input() #接收一个字符串参数\n",
    "    if is_signal(s) == 1:#如果判断标识符合法的函数返回1\n",
    "        print(\"True\")#打印true\n",
    "    else:\n",
    "        print(\"False\")#否则false\n",
    "if __name__ == '__main__':#防止在被其他文件导入时显示多余的程序主体部分\n",
    "    main()"
   ]
  },
  {
   "cell_type": "code",
   "execution_count": 272,
   "metadata": {},
   "outputs": [
    {
     "name": "stdout",
     "output_type": "stream",
     "text": [
      "大于10\n"
     ]
    }
   ],
   "source": [
    "a = 60\n",
    "if a < 10:\n",
    "    print(\"小于10\")\n",
    "elif a == 10:\n",
    "    pass\n",
    "else:\n",
    "    print(\"大于10\")"
   ]
  },
  {
   "cell_type": "code",
   "execution_count": null,
   "metadata": {},
   "outputs": [],
   "source": [
    "import random\n",
    "def sort2part():\n",
    "    # 用random生成20个随机数并完成本题要求\n",
    "    #your code here\n",
    "    s = random.randit(20)\n",
    "\n",
    "sort2part()"
   ]
  },
  {
   "cell_type": "code",
   "execution_count": 299,
   "metadata": {},
   "outputs": [
    {
     "data": {
      "text/plain": [
       "3"
      ]
     },
     "execution_count": 299,
     "metadata": {},
     "output_type": "execute_result"
    }
   ],
   "source": [
    "import random\n",
    "s = random.randint(0,20)\n",
    "s"
   ]
  },
  {
   "cell_type": "code",
   "execution_count": 300,
   "metadata": {},
   "outputs": [
    {
     "name": "stdout",
     "output_type": "stream",
     "text": [
      "[100, 29, 34, 38, 7, 1, 95, 70, 63, 81, 24, 2, 96, 75, 88, 40, 3, 25, 31, 41]\n"
     ]
    }
   ],
   "source": [
    "import random\n",
    "alist = random.sample(range(1,101),20) #random.sample()生成不相同的随机数\n",
    "print(alist)"
   ]
  },
  {
   "cell_type": "code",
   "execution_count": 313,
   "metadata": {},
   "outputs": [
    {
     "data": {
      "text/plain": [
       "[85, 26, 13, 14, 72, 17, 40, 83, 87, 50, 18, 1, 45, 8, 53, 79, 24, 48, 15, 41]"
      ]
     },
     "execution_count": 313,
     "metadata": {},
     "output_type": "execute_result"
    }
   ],
   "source": [
    "list = random.sample(range(1,100), 20)  \n",
    "list"
   ]
  },
  {
   "cell_type": "code",
   "execution_count": 318,
   "metadata": {},
   "outputs": [
    {
     "name": "stdout",
     "output_type": "stream",
     "text": [
      "[85, 26, 13, 14, 72, 17, 40, 83, 87, 50]\n",
      "[13, 14, 17, 26, 40, 50, 72, 83, 85, 87]\n"
     ]
    }
   ],
   "source": [
    "l1 = list[:10]\n",
    "print(l1)\n",
    "print(sorted(l1))"
   ]
  },
  {
   "cell_type": "code",
   "execution_count": 319,
   "metadata": {},
   "outputs": [
    {
     "name": "stdout",
     "output_type": "stream",
     "text": [
      "[18, 1, 45, 8, 53, 79, 24, 48, 15, 41]\n",
      "[1, 8, 15, 18, 24, 41, 45, 48, 53, 79]\n"
     ]
    }
   ],
   "source": [
    "l2 = list[10:]\n",
    "print(l2)\n",
    "print(sorted(l2))"
   ]
  },
  {
   "cell_type": "code",
   "execution_count": 320,
   "metadata": {},
   "outputs": [
    {
     "name": "stdout",
     "output_type": "stream",
     "text": [
      "1 1 2 3 5 8 13 21 34 55 \n"
     ]
    }
   ],
   "source": [
    "# 定义斐波那契数列\n",
    "def fib(n):\n",
    "    a, b =1, 1\n",
    "    for i in range(n):\n",
    "        print(a, end=\" \")\n",
    "        a,b = b,a+b\n",
    "    print()\n",
    "\n",
    "fib(10)"
   ]
  },
  {
   "cell_type": "code",
   "execution_count": 344,
   "metadata": {},
   "outputs": [
    {
     "name": "stdout",
     "output_type": "stream",
     "text": [
      "该数列的前30项和:  48.84060068717216\n"
     ]
    }
   ],
   "source": [
    "def fab(max): \n",
    "    # 完成分子分母的生成并计算求和返回结果\n",
    "    # your code here\n",
    "    a = 2\n",
    "    b = 1\n",
    "    sum = 0\n",
    "    for i in range(max):\n",
    "        sum += (a / b)\n",
    "        a, b = (a+b), a\n",
    "    return sum\n",
    "\n",
    "print(\"该数列的前30项和: \",fab(30))"
   ]
  },
  {
   "cell_type": "code",
   "execution_count": 330,
   "metadata": {},
   "outputs": [
    {
     "ename": "TypeError",
     "evalue": "'list' object is not callable",
     "output_type": "error",
     "traceback": [
      "\u001b[1;31m---------------------------------------------------------------------------\u001b[0m",
      "\u001b[1;31mTypeError\u001b[0m                                 Traceback (most recent call last)",
      "\u001b[1;32m<ipython-input-330-f28e524a8142>\u001b[0m in \u001b[0;36m<module>\u001b[1;34m\u001b[0m\n\u001b[1;32m----> 1\u001b[1;33m \u001b[0mn\u001b[0m \u001b[1;33m=\u001b[0m \u001b[0mint\u001b[0m\u001b[1;33m(\u001b[0m\u001b[0minput\u001b[0m\u001b[1;33m(\u001b[0m\u001b[1;34m'请输入项数： '\u001b[0m\u001b[1;33m)\u001b[0m\u001b[1;33m)\u001b[0m\u001b[1;33m\u001b[0m\u001b[1;33m\u001b[0m\u001b[0m\n\u001b[0m\u001b[0;32m      2\u001b[0m \u001b[1;33m\u001b[0m\u001b[0m\n\u001b[0;32m      3\u001b[0m \u001b[0mfenzi\u001b[0m \u001b[1;33m=\u001b[0m \u001b[1;36m2\u001b[0m\u001b[1;31m#分子\u001b[0m\u001b[1;33m\u001b[0m\u001b[1;33m\u001b[0m\u001b[0m\n\u001b[0;32m      4\u001b[0m \u001b[0mfenmu\u001b[0m \u001b[1;33m=\u001b[0m \u001b[1;36m1\u001b[0m\u001b[1;31m#分母\u001b[0m\u001b[1;33m\u001b[0m\u001b[1;33m\u001b[0m\u001b[0m\n\u001b[0;32m      5\u001b[0m \u001b[0ml\u001b[0m \u001b[1;33m=\u001b[0m \u001b[1;33m[\u001b[0m\u001b[1;33m]\u001b[0m\u001b[1;33m\u001b[0m\u001b[1;33m\u001b[0m\u001b[0m\n",
      "\u001b[1;31mTypeError\u001b[0m: 'list' object is not callable"
     ]
    }
   ],
   "source": [
    "n = int(input('请输入项数： '))\n",
    " \n",
    "fenzi = 2#分子\n",
    "fenmu = 1#分母\n",
    "l = []\n",
    "s = 0\n",
    " \n",
    "for i in range(1,n+1):\n",
    "    a = fenzi\n",
    "    b = fenmu\n",
    "    \n",
    "    s += (a/b)\n",
    "    l.append('%s/%s'%(a,b))\n",
    "    \n",
    "    fenzi = a+b\n",
    "    fenmu = a\n",
    "    \n",
    "print('+'.join(str(i) for i in l),end = '')\n",
    "print('=%.2f'%s)"
   ]
  },
  {
   "cell_type": "code",
   "execution_count": 331,
   "metadata": {},
   "outputs": [
    {
     "name": "stdout",
     "output_type": "stream",
     "text": [
      "32.66026079864164\n"
     ]
    }
   ],
   "source": [
    "a = 2\n",
    "b = 1\n",
    "sum = 0\n",
    "for i in range(20):\n",
    "    sum = a / b + sum\n",
    "    a, b = (a + b), a\n",
    "print(sum)"
   ]
  },
  {
   "cell_type": "code",
   "execution_count": 362,
   "metadata": {},
   "outputs": [
    {
     "ename": "TypeError",
     "evalue": "'list' object is not callable",
     "output_type": "error",
     "traceback": [
      "\u001b[1;31m---------------------------------------------------------------------------\u001b[0m",
      "\u001b[1;31mTypeError\u001b[0m                                 Traceback (most recent call last)",
      "\u001b[1;32m<ipython-input-362-d9e8b64440b9>\u001b[0m in \u001b[0;36m<module>\u001b[1;34m\u001b[0m\n\u001b[1;32m----> 1\u001b[1;33m \u001b[0mweight\u001b[0m \u001b[1;33m=\u001b[0m \u001b[0mfloat\u001b[0m\u001b[1;33m(\u001b[0m\u001b[0minput\u001b[0m\u001b[1;33m(\u001b[0m\u001b[1;34m'请输入您的体重：'\u001b[0m\u001b[1;33m)\u001b[0m\u001b[1;33m)\u001b[0m\u001b[1;33m\u001b[0m\u001b[1;33m\u001b[0m\u001b[0m\n\u001b[0m\u001b[0;32m      2\u001b[0m \u001b[0mhigh\u001b[0m \u001b[1;33m=\u001b[0m \u001b[0mfloat\u001b[0m\u001b[1;33m(\u001b[0m\u001b[0minput\u001b[0m\u001b[1;33m(\u001b[0m\u001b[1;34m'请输入您的身高：'\u001b[0m\u001b[1;33m)\u001b[0m\u001b[1;33m)\u001b[0m\u001b[1;33m\u001b[0m\u001b[1;33m\u001b[0m\u001b[0m\n\u001b[0;32m      3\u001b[0m \u001b[1;31m# 完成BMI计算并返回结果提示信息\u001b[0m\u001b[1;33m\u001b[0m\u001b[1;33m\u001b[0m\u001b[1;33m\u001b[0m\u001b[0m\n\u001b[0;32m      4\u001b[0m \u001b[0mbmi\u001b[0m \u001b[1;33m=\u001b[0m \u001b[0mweight\u001b[0m\u001b[1;33m/\u001b[0m \u001b[1;33m(\u001b[0m\u001b[0mhigh\u001b[0m \u001b[1;33m**\u001b[0m \u001b[1;36m2\u001b[0m\u001b[1;33m)\u001b[0m\u001b[1;33m\u001b[0m\u001b[1;33m\u001b[0m\u001b[0m\n\u001b[0;32m      5\u001b[0m \u001b[0mprint\u001b[0m\u001b[1;33m(\u001b[0m\u001b[1;34m\"BMI:\"\u001b[0m\u001b[1;33m,\u001b[0m \u001b[0mbmi\u001b[0m\u001b[1;33m)\u001b[0m\u001b[1;33m\u001b[0m\u001b[1;33m\u001b[0m\u001b[0m\n",
      "\u001b[1;31mTypeError\u001b[0m: 'list' object is not callable"
     ]
    }
   ],
   "source": [
    "weight = float(input('请输入您的体重：'))\n",
    "high = float(input('请输入您的身高：'))\n",
    "# 完成BMI计算并返回结果提示信息\n",
    "bmi = weight/ (high ** 2)\n",
    "print(\"BMI:\", bmi)\n",
    "if bmi >= 18 and bmi <= 25:\n",
    "    print(\"健康\")\n",
    "elif bmi<18:\n",
    "    print(\"偏瘦\")\n",
    "elif bmi>25:\n",
    "    print(\"偏重\")"
   ]
  },
  {
   "cell_type": "code",
   "execution_count": 354,
   "metadata": {},
   "outputs": [
    {
     "ename": "TypeError",
     "evalue": "'list' object is not callable",
     "output_type": "error",
     "traceback": [
      "\u001b[1;31m---------------------------------------------------------------------------\u001b[0m",
      "\u001b[1;31mTypeError\u001b[0m                                 Traceback (most recent call last)",
      "\u001b[1;32m<ipython-input-354-1604fac095af>\u001b[0m in \u001b[0;36m<module>\u001b[1;34m\u001b[0m\n\u001b[1;32m----> 1\u001b[1;33m \u001b[0mweight\u001b[0m \u001b[1;33m=\u001b[0m \u001b[0mfloat\u001b[0m\u001b[1;33m(\u001b[0m\u001b[0minput\u001b[0m\u001b[1;33m(\u001b[0m\u001b[1;34m'请输入您的体重：'\u001b[0m\u001b[1;33m)\u001b[0m\u001b[1;33m)\u001b[0m\u001b[1;33m\u001b[0m\u001b[1;33m\u001b[0m\u001b[0m\n\u001b[0m",
      "\u001b[1;31mTypeError\u001b[0m: 'list' object is not callable"
     ]
    }
   ],
   "source": [
    "weight = float(input('请输入您的体重：'))"
   ]
  },
  {
   "cell_type": "code",
   "execution_count": 353,
   "metadata": {},
   "outputs": [
    {
     "ename": "NameError",
     "evalue": "name 'raw_input' is not defined",
     "output_type": "error",
     "traceback": [
      "\u001b[1;31m---------------------------------------------------------------------------\u001b[0m",
      "\u001b[1;31mNameError\u001b[0m                                 Traceback (most recent call last)",
      "\u001b[1;32m<ipython-input-353-01aa2f561af7>\u001b[0m in \u001b[0;36m<module>\u001b[1;34m\u001b[0m\n\u001b[1;32m----> 1\u001b[1;33m \u001b[0muser\u001b[0m\u001b[1;33m=\u001b[0m\u001b[0mraw_input\u001b[0m\u001b[1;33m(\u001b[0m\u001b[1;34m\"please input:\"\u001b[0m\u001b[1;33m)\u001b[0m\u001b[1;33m\u001b[0m\u001b[1;33m\u001b[0m\u001b[0m\n\u001b[0m",
      "\u001b[1;31mNameError\u001b[0m: name 'raw_input' is not defined"
     ]
    }
   ],
   "source": [
    "user=raw_input(\"please input:\") "
   ]
  },
  {
   "cell_type": "code",
   "execution_count": 355,
   "metadata": {},
   "outputs": [
    {
     "ename": "TypeError",
     "evalue": "'list' object is not callable",
     "output_type": "error",
     "traceback": [
      "\u001b[1;31m---------------------------------------------------------------------------\u001b[0m",
      "\u001b[1;31mTypeError\u001b[0m                                 Traceback (most recent call last)",
      "\u001b[1;32m<ipython-input-355-e778c0999b6c>\u001b[0m in \u001b[0;36m<module>\u001b[1;34m\u001b[0m\n\u001b[1;32m----> 1\u001b[1;33m \u001b[0ma\u001b[0m \u001b[1;33m=\u001b[0m \u001b[0minput\u001b[0m\u001b[1;33m(\u001b[0m\u001b[1;34m\"input:\"\u001b[0m\u001b[1;33m)\u001b[0m\u001b[1;33m\u001b[0m\u001b[1;33m\u001b[0m\u001b[0m\n\u001b[0m",
      "\u001b[1;31mTypeError\u001b[0m: 'list' object is not callable"
     ]
    }
   ],
   "source": [
    "a = input(\"input:\")"
   ]
  },
  {
   "cell_type": "code",
   "execution_count": 2,
   "metadata": {},
   "outputs": [
    {
     "name": "stdout",
     "output_type": "stream",
     "text": [
      "空格个数：2个\n",
      "数字个数：2个\n",
      "英文字母个数：12个\n",
      "其他字符个数：5个\n",
      "空格个数：2个\n",
      "数字个数：0个\n",
      "英文字母个数：11个\n",
      "其他字符个数：0个\n"
     ]
    }
   ],
   "source": [
    "def str_count(s):  \n",
    "    # 完成对应要求的统计，并返回对应的数量\n",
    "    # your code here\n",
    "    count_s = 0\n",
    "    count_z = 0\n",
    "    count_a = 0\n",
    "    count_o = 0\n",
    "    for c in s:\n",
    "        if ord(c) == 32:\n",
    "            count_s += 1\n",
    "        if 48<=ord(c)<=57:\n",
    "            count_z += 1\n",
    "        if 65<=ord(c)<=91 or 97<=ord(c)<=122:\n",
    "            count_a += 1\n",
    "        if ord(c) > 122:\n",
    "            count_o += 1\n",
    "        \n",
    "    print(\"空格个数：%d个\"%count_s)  \n",
    "    print(\"数字个数：%d个\"%count_z)\n",
    "    print(\"英文字母个数：%d个\"%count_a)\n",
    "    print(\"其他字符个数：%d个\"%count_o)  # 题目要求这里比122高的都是其它\n",
    "    \n",
    "str_count(\"我是xiao ming ming,今年27岁\")\n",
    "str_count(\"I am xiaoming\")"
   ]
  },
  {
   "cell_type": "code",
   "execution_count": 371,
   "metadata": {},
   "outputs": [
    {
     "ename": "TypeError",
     "evalue": "'list' object is not callable",
     "output_type": "error",
     "traceback": [
      "\u001b[1;31m---------------------------------------------------------------------------\u001b[0m",
      "\u001b[1;31mTypeError\u001b[0m                                 Traceback (most recent call last)",
      "\u001b[1;32m<ipython-input-371-adab26b1700e>\u001b[0m in \u001b[0;36m<module>\u001b[1;34m\u001b[0m\n\u001b[1;32m----> 1\u001b[1;33m \u001b[0ms\u001b[0m\u001b[1;33m=\u001b[0m\u001b[0minput\u001b[0m\u001b[1;33m(\u001b[0m\u001b[1;34m'输入一行字符:\\n'\u001b[0m\u001b[1;33m)\u001b[0m\u001b[1;33m\u001b[0m\u001b[1;33m\u001b[0m\u001b[0m\n\u001b[0m\u001b[0;32m      2\u001b[0m \u001b[0mi\u001b[0m\u001b[1;33m=\u001b[0m\u001b[1;36m0\u001b[0m\u001b[1;33m\u001b[0m\u001b[1;33m\u001b[0m\u001b[0m\n\u001b[0;32m      3\u001b[0m \u001b[0mj\u001b[0m\u001b[1;33m=\u001b[0m\u001b[1;36m0\u001b[0m\u001b[1;33m\u001b[0m\u001b[1;33m\u001b[0m\u001b[0m\n\u001b[0;32m      4\u001b[0m \u001b[0mk\u001b[0m\u001b[1;33m=\u001b[0m\u001b[1;36m0\u001b[0m\u001b[1;33m\u001b[0m\u001b[1;33m\u001b[0m\u001b[0m\n\u001b[0;32m      5\u001b[0m \u001b[0ml\u001b[0m\u001b[1;33m=\u001b[0m\u001b[1;36m0\u001b[0m\u001b[1;33m\u001b[0m\u001b[1;33m\u001b[0m\u001b[0m\n",
      "\u001b[1;31mTypeError\u001b[0m: 'list' object is not callable"
     ]
    }
   ],
   "source": [
    "s=input('输入一行字符:\\n')\n",
    "i=0\n",
    "j=0\n",
    "k=0\n",
    "l=0\n",
    "for c in s:\n",
    "    if c.isalpha():\n",
    "        i+=1\n",
    "    elif c.isspace():\n",
    "       j+=1\n",
    "    elif c.isdigit():\n",
    "        k+=1\n",
    "    else:\n",
    "        l+=1\n",
    "print('英文=%d,空格=%d,数字=%d,其他字符=%d'%(i,j,k,l))"
   ]
  },
  {
   "cell_type": "code",
   "execution_count": 4,
   "metadata": {},
   "outputs": [
    {
     "name": "stdout",
     "output_type": "stream",
     "text": [
      "[1, 2, 3, 4]\n"
     ]
    }
   ],
   "source": [
    "lst = [1,1,2,3,4]\n",
    "temp = []\n",
    "for i in lst:\n",
    "    if not i in temp:\n",
    "        temp.append(i)\n",
    "print(temp)"
   ]
  },
  {
   "cell_type": "code",
   "execution_count": 6,
   "metadata": {},
   "outputs": [
    {
     "name": "stdout",
     "output_type": "stream",
     "text": [
      "[1, 2, 3, 4, 5]\n"
     ]
    }
   ],
   "source": [
    "#使用列表推导式去重\n",
    "\n",
    "lst = [1,2,3,3,4,4,5]\n",
    "temp = []\n",
    "[temp.append(i) for i in lst if i not in temp]\n",
    "print(temp)"
   ]
  },
  {
   "cell_type": "code",
   "execution_count": 8,
   "metadata": {},
   "outputs": [
    {
     "data": {
      "text/plain": [
       "[2, 3, 4]"
      ]
     },
     "execution_count": 8,
     "metadata": {},
     "output_type": "execute_result"
    }
   ],
   "source": [
    "data = [2, 1, 3, 4, 1]\n",
    "list(filter(lambda x:data.count(x) == 1, data))"
   ]
  },
  {
   "cell_type": "code",
   "execution_count": 9,
   "metadata": {},
   "outputs": [
    {
     "data": {
      "text/plain": [
       "[2, 3, 4]"
      ]
     },
     "execution_count": 9,
     "metadata": {},
     "output_type": "execute_result"
    }
   ],
   "source": [
    "data = [2, 1, 3, 4, 1]\n",
    "[item for item in data if data.count(item) == 1]"
   ]
  },
  {
   "cell_type": "code",
   "execution_count": 13,
   "metadata": {},
   "outputs": [
    {
     "name": "stdout",
     "output_type": "stream",
     "text": [
      "长度至少为2，不符合要求\n"
     ]
    },
    {
     "ename": "TypeError",
     "evalue": "'<' not supported between instances of 'str' and 'int'",
     "output_type": "error",
     "traceback": [
      "\u001b[1;31m---------------------------------------------------------------------------\u001b[0m",
      "\u001b[1;31mTypeError\u001b[0m                                 Traceback (most recent call last)",
      "\u001b[1;32m<ipython-input-13-6629aeff916c>\u001b[0m in \u001b[0;36m<module>\u001b[1;34m\u001b[0m\n\u001b[0;32m     19\u001b[0m \u001b[1;33m\u001b[0m\u001b[0m\n\u001b[0;32m     20\u001b[0m \u001b[0mcheck_data\u001b[0m\u001b[1;33m(\u001b[0m\u001b[1;33m[\u001b[0m\u001b[1;36m1\u001b[0m\u001b[1;33m]\u001b[0m\u001b[1;33m)\u001b[0m\u001b[1;33m\u001b[0m\u001b[1;33m\u001b[0m\u001b[0m\n\u001b[1;32m---> 21\u001b[1;33m \u001b[0mcheck_data\u001b[0m\u001b[1;33m(\u001b[0m\u001b[1;33m[\u001b[0m\u001b[1;36m1\u001b[0m\u001b[1;33m,\u001b[0m\u001b[1;34m\"2\"\u001b[0m\u001b[1;33m]\u001b[0m\u001b[1;33m)\u001b[0m\u001b[1;33m\u001b[0m\u001b[1;33m\u001b[0m\u001b[0m\n\u001b[0m\u001b[0;32m     22\u001b[0m \u001b[0mcheck_data\u001b[0m\u001b[1;33m(\u001b[0m\u001b[1;33m[\u001b[0m\u001b[1;36m1\u001b[0m\u001b[1;33m,\u001b[0m\u001b[1;36m2\u001b[0m\u001b[1;33m,\u001b[0m\u001b[1;36m3\u001b[0m\u001b[1;33m,\u001b[0m\u001b[1;36m4\u001b[0m\u001b[1;33m]\u001b[0m\u001b[1;33m)\u001b[0m\u001b[1;33m\u001b[0m\u001b[1;33m\u001b[0m\u001b[0m\n\u001b[0;32m     23\u001b[0m \u001b[0mcheck_data\u001b[0m\u001b[1;33m(\u001b[0m\u001b[1;33m[\u001b[0m\u001b[1;36m4\u001b[0m\u001b[1;33m,\u001b[0m\u001b[1;36m3\u001b[0m\u001b[1;33m,\u001b[0m\u001b[1;36m2\u001b[0m\u001b[1;33m,\u001b[0m\u001b[1;36m1\u001b[0m\u001b[1;33m]\u001b[0m\u001b[1;33m)\u001b[0m\u001b[1;33m\u001b[0m\u001b[1;33m\u001b[0m\u001b[0m\n",
      "\u001b[1;32m<ipython-input-13-6629aeff916c>\u001b[0m in \u001b[0;36mcheck_data\u001b[1;34m(l)\u001b[0m\n\u001b[0;32m      7\u001b[0m         \u001b[1;32mfor\u001b[0m \u001b[0mitem\u001b[0m \u001b[1;32min\u001b[0m \u001b[0ml\u001b[0m\u001b[1;33m:\u001b[0m\u001b[1;33m\u001b[0m\u001b[1;33m\u001b[0m\u001b[0m\n\u001b[0;32m      8\u001b[0m             \u001b[1;32mif\u001b[0m \u001b[0misinstance\u001b[0m\u001b[1;33m(\u001b[0m\u001b[0mitem\u001b[0m\u001b[1;33m,\u001b[0m\u001b[0mint\u001b[0m\u001b[1;33m)\u001b[0m\u001b[1;33m:\u001b[0m\u001b[1;33m\u001b[0m\u001b[1;33m\u001b[0m\u001b[0m\n\u001b[1;32m----> 9\u001b[1;33m                 \u001b[0masc_list\u001b[0m \u001b[1;33m=\u001b[0m \u001b[0mlist\u001b[0m\u001b[1;33m(\u001b[0m\u001b[0msorted\u001b[0m\u001b[1;33m(\u001b[0m\u001b[0ml\u001b[0m\u001b[1;33m)\u001b[0m\u001b[1;33m)\u001b[0m\u001b[1;33m\u001b[0m\u001b[1;33m\u001b[0m\u001b[0m\n\u001b[0m\u001b[0;32m     10\u001b[0m                 \u001b[0mdes_list\u001b[0m \u001b[1;33m=\u001b[0m \u001b[0mlist\u001b[0m\u001b[1;33m(\u001b[0m\u001b[0msorted\u001b[0m\u001b[1;33m(\u001b[0m\u001b[0ml\u001b[0m\u001b[1;33m,\u001b[0m\u001b[0mreversed\u001b[0m \u001b[1;33m=\u001b[0m \u001b[1;32mFalse\u001b[0m\u001b[1;33m)\u001b[0m\u001b[1;33m)\u001b[0m\u001b[1;33m\u001b[0m\u001b[1;33m\u001b[0m\u001b[0m\n\u001b[0;32m     11\u001b[0m                 \u001b[1;32mif\u001b[0m \u001b[0ml\u001b[0m \u001b[1;33m==\u001b[0m \u001b[0masc_list\u001b[0m\u001b[1;33m:\u001b[0m\u001b[1;33m\u001b[0m\u001b[1;33m\u001b[0m\u001b[0m\n",
      "\u001b[1;31mTypeError\u001b[0m: '<' not supported between instances of 'str' and 'int'"
     ]
    }
   ],
   "source": [
    "def check_data(l):\n",
    "    # 请完成题目要求的任务，并输出对应信息\n",
    "    # your code here\n",
    "    if len(l) < 2:\n",
    "        print(\"长度至少为2，不符合要求\")\n",
    "    else len(l) >= 2:\n",
    "        for item in l:\n",
    "            if isinstance(item,int):\n",
    "                asc_list = list(sorted(l))\n",
    "                des_list = list(sorted(l,reversed = False))\n",
    "                if l == asc_list:\n",
    "                    print(\"ASC\")\n",
    "                elif l == des_list:\n",
    "                    print(\"DESC\")\n",
    "                else:\n",
    "                    print(\"WRONG\")\n",
    "            \n",
    "            \n",
    "        \n",
    "check_data([1])\n",
    "check_data([1,\"2\"])\n",
    "check_data([1,2,3,4])\n",
    "check_data([4,3,2,1])\n",
    "check_data([1,3,2,4])"
   ]
  },
  {
   "cell_type": "code",
   "execution_count": 34,
   "metadata": {},
   "outputs": [
    {
     "ename": "TypeError",
     "evalue": "'<' not supported between instances of 'str' and 'int'",
     "output_type": "error",
     "traceback": [
      "\u001b[1;31m---------------------------------------------------------------------------\u001b[0m",
      "\u001b[1;31mTypeError\u001b[0m                                 Traceback (most recent call last)",
      "\u001b[1;32m<ipython-input-34-f2f759fe2aaf>\u001b[0m in \u001b[0;36m<module>\u001b[1;34m\u001b[0m\n\u001b[0;32m      6\u001b[0m    \u001b[1;32mfor\u001b[0m \u001b[0mitem\u001b[0m \u001b[1;32min\u001b[0m \u001b[0ml\u001b[0m\u001b[1;33m:\u001b[0m\u001b[1;33m\u001b[0m\u001b[1;33m\u001b[0m\u001b[0m\n\u001b[0;32m      7\u001b[0m        \u001b[1;32mif\u001b[0m \u001b[0misinstance\u001b[0m\u001b[1;33m(\u001b[0m\u001b[0mitem\u001b[0m\u001b[1;33m,\u001b[0m\u001b[0mint\u001b[0m\u001b[1;33m)\u001b[0m\u001b[1;33m:\u001b[0m\u001b[1;33m\u001b[0m\u001b[1;33m\u001b[0m\u001b[0m\n\u001b[1;32m----> 8\u001b[1;33m            \u001b[1;32mif\u001b[0m \u001b[0msorted\u001b[0m\u001b[1;33m(\u001b[0m\u001b[0ml\u001b[0m\u001b[1;33m)\u001b[0m \u001b[1;33m==\u001b[0m \u001b[0ml\u001b[0m\u001b[1;33m:\u001b[0m\u001b[1;33m\u001b[0m\u001b[1;33m\u001b[0m\u001b[0m\n\u001b[0m\u001b[0;32m      9\u001b[0m                \u001b[0mprint\u001b[0m\u001b[1;33m(\u001b[0m\u001b[1;34m\"ASC\"\u001b[0m\u001b[1;33m)\u001b[0m\u001b[1;33m\u001b[0m\u001b[1;33m\u001b[0m\u001b[0m\n\u001b[0;32m     10\u001b[0m            \u001b[1;32melif\u001b[0m \u001b[0msorted\u001b[0m\u001b[1;33m(\u001b[0m\u001b[0ml\u001b[0m\u001b[1;33m,\u001b[0m \u001b[0mreverse\u001b[0m \u001b[1;33m=\u001b[0m\u001b[1;32mTrue\u001b[0m\u001b[1;33m)\u001b[0m \u001b[1;33m==\u001b[0m \u001b[0ml\u001b[0m\u001b[1;33m:\u001b[0m\u001b[1;33m\u001b[0m\u001b[1;33m\u001b[0m\u001b[0m\n",
      "\u001b[1;31mTypeError\u001b[0m: '<' not supported between instances of 'str' and 'int'"
     ]
    }
   ],
   "source": [
    " l=[1,'2',3,8]\n",
    "      # your code here\n",
    "if len(l) < 2:\n",
    "    print(\"长度至少为2，不符合要求\")\n",
    "else:\n",
    "    for item in l:\n",
    "        if isinstance(item,int):\n",
    "            if sorted(l) == l:\n",
    "                print(\"ASC\")\n",
    "            elif sorted(l, reverse =True) == l:\n",
    "                print(\"DESC\")\n",
    "            else:\n",
    "                print(\"WRONG\")\n",
    "        else:\n",
    "            print(\"不符合要求\")\n",
    "                "
   ]
  },
  {
   "cell_type": "code",
   "execution_count": 31,
   "metadata": {},
   "outputs": [
    {
     "name": "stdout",
     "output_type": "stream",
     "text": [
      "[6, 8, 10]\n",
      "[1, 3, 6, 8, 10, 11, 17]\n",
      "[1, 3, 11, 17]\n",
      "[1, 9, 121, 289]\n"
     ]
    }
   ],
   "source": [
    "l1 = [1,3,6,8,10,11,17]\n",
    "def is_even(x):\n",
    "    if x % 2 == 0:\n",
    "        return x\n",
    "l2 = list(filter(is_even, l1))\n",
    "print(l2)\n",
    "print(l1)\n",
    "def f(x):\n",
    "    return x**2\n",
    "l3 = [1,3,11,17]\n",
    "l4 = list(map(f, l3))\n",
    "print(l3)\n",
    "print(l4)"
   ]
  },
  {
   "cell_type": "code",
   "execution_count": 33,
   "metadata": {},
   "outputs": [
    {
     "name": "stdout",
     "output_type": "stream",
     "text": [
      "56\n"
     ]
    }
   ],
   "source": [
    "from functools import reduce\n",
    "result = reduce(lambda x,y:x+y, l1)\n",
    "print(result)"
   ]
  },
  {
   "cell_type": "code",
   "execution_count": null,
   "metadata": {},
   "outputs": [],
   "source": [
    "# 类的设计与创建\n",
    "# 使用 class 语句来创建一个新类，class 之后为类的名称并以冒号结尾，类的主体由类成员，方法，数据属性组成\n",
    "\n",
    "class Employee:\n",
    "    \"所有员工的基类\"\n",
    "    empCount = 0\n",
    "\n",
    "    def __init__(self, name, salary):\n",
    "        self.name = name\n",
    "        self.salary = salary\n",
    "        Employee.empCount += 1\n",
    "\n",
    "    def displayCount(self):\n",
    "        print(\"总共雇员数量 %d\" % Employee.empCount)\n",
    "\n",
    "    def displayEmployee(self):\n",
    "        print(\"姓名: \", self.name,  \", 工资: \", self.salary)\n",
    "        \n",
    "# empCount 变量是一个类变量，它的值将在这个类的所有实例之间共享。你可以在内部类或外部类使用 Employee.empCount 访问。\n",
    "# 第一种方法__init__()方法是一种特殊的方法，被称为类的构造函数或初始化方法，当创建了这个类的实例时就会调用该方法\n",
    "# self 代表类的实例，self 在定义类的方法时是必须有的，虽然在调用时不必传入相应的参数。"
   ]
  },
  {
   "cell_type": "markdown",
   "metadata": {},
   "source": [
    "Python类设计\n",
    "设计一个公司类，完成以下要求，并实例化不同对象进行验证\n",
    "\n",
    "类变量\n",
    "\n",
    "类下公司的总个数，类下公司实例的名称列表\n",
    "\n",
    "类方法\n",
    "\n",
    "返回公司类共有多少个公司实例\n",
    "\n",
    "返回公司类的公司实例有名称列表\n",
    "\n",
    "实例变量\n",
    "\n",
    "公司名，简介，利润，销售额，总成本，雇员姓名列表，雇员详细信息列表(这里可能会考察到*号对参数解包)\n",
    "\n",
    "实例方法：\n",
    "\n",
    "招聘人才（每招一个人会有成本产生，影响该实例雇员列表、人数、总成本，默认成本cost=10000）\n",
    "\n",
    "解雇人员（每解雇一个人会有成本产生，影响该实例雇员列表、人数 、总成本，默认成本cost=5000）\n",
    "\n",
    "公司广告推广(影响该实例总成本，自定义成本cost)\n",
    "\n",
    "交社保(按公司雇员总人数计算，影响该实例总成本，默认单人社保缴纳1000)\n",
    "\n",
    "交税(按公司雇员总人数计算，影响该实例总成本，默认单人税费缴纳500)\n",
    "\n",
    "销售（按销售件数*价格计算销售额，利润按销售额*利润率进行计算利润。默认利润率50%）\n",
    "\n",
    "获取公司雇员列表\n",
    "\n",
    "获取公司净利润\n",
    "\n",
    "提示：具体的函数方法与变量定义，请参考下述实例化代码确定。初始化雇员的地方，大家看到调用的时候会包含年龄等信息，这里可能会用到不定长参数输入，详细可以参考python参数说明\n"
   ]
  },
  {
   "cell_type": "code",
   "execution_count": 52,
   "metadata": {},
   "outputs": [
    {
     "ename": "TypeError",
     "evalue": "descriptor 'append' requires a 'list' object but received a 'str'",
     "output_type": "error",
     "traceback": [
      "\u001b[1;31m---------------------------------------------------------------------------\u001b[0m",
      "\u001b[1;31mTypeError\u001b[0m                                 Traceback (most recent call last)",
      "\u001b[1;32m<ipython-input-52-7a396f512aa3>\u001b[0m in \u001b[0;36m<module>\u001b[1;34m\u001b[0m\n\u001b[0;32m      1\u001b[0m \u001b[1;31m#功能验证\u001b[0m\u001b[1;33m\u001b[0m\u001b[1;33m\u001b[0m\u001b[1;33m\u001b[0m\u001b[0m\n\u001b[0;32m      2\u001b[0m \u001b[0mc0\u001b[0m \u001b[1;33m=\u001b[0m \u001b[0mCompany\u001b[0m\u001b[1;33m(\u001b[0m\u001b[1;34m'小象学院'\u001b[0m\u001b[1;33m,\u001b[0m\u001b[1;34m'大数据AI在线教育'\u001b[0m\u001b[1;33m)\u001b[0m\u001b[1;33m\u001b[0m\u001b[1;33m\u001b[0m\u001b[0m\n\u001b[1;32m----> 3\u001b[1;33m \u001b[0mc0\u001b[0m\u001b[1;33m.\u001b[0m\u001b[0mrecruit\u001b[0m\u001b[1;33m(\u001b[0m\u001b[1;34m'HanXiaoyang'\u001b[0m\u001b[1;33m,\u001b[0m\u001b[1;36m18\u001b[0m\u001b[1;33m,\u001b[0m \u001b[0mcost\u001b[0m\u001b[1;33m=\u001b[0m\u001b[1;36m20000\u001b[0m\u001b[1;33m)\u001b[0m\u001b[1;33m\u001b[0m\u001b[1;33m\u001b[0m\u001b[0m\n\u001b[0m\u001b[0;32m      4\u001b[0m \u001b[0mc0\u001b[0m\u001b[1;33m.\u001b[0m\u001b[0mrecruit\u001b[0m\u001b[1;33m(\u001b[0m\u001b[1;34m'Eric'\u001b[0m\u001b[1;33m,\u001b[0m\u001b[1;36m20\u001b[0m\u001b[1;33m,\u001b[0m \u001b[0mcost\u001b[0m\u001b[1;33m=\u001b[0m\u001b[1;36m10000\u001b[0m\u001b[1;33m)\u001b[0m\u001b[1;33m\u001b[0m\u001b[1;33m\u001b[0m\u001b[0m\n\u001b[0;32m      5\u001b[0m \u001b[0mprint\u001b[0m\u001b[1;33m(\u001b[0m\u001b[1;34m'{}公司员工详细信息列表:{}'\u001b[0m\u001b[1;33m.\u001b[0m\u001b[0mformat\u001b[0m\u001b[1;33m(\u001b[0m\u001b[0mc0\u001b[0m\u001b[1;33m.\u001b[0m\u001b[0mcompanyName\u001b[0m\u001b[1;33m,\u001b[0m\u001b[0mc0\u001b[0m\u001b[1;33m.\u001b[0m\u001b[0mgetEmployeeList\u001b[0m\u001b[1;33m(\u001b[0m\u001b[1;33m)\u001b[0m\u001b[1;33m)\u001b[0m\u001b[1;33m)\u001b[0m\u001b[1;33m\u001b[0m\u001b[1;33m\u001b[0m\u001b[0m\n",
      "\u001b[1;32m<ipython-input-51-dfee3d49d40d>\u001b[0m in \u001b[0;36mrecruit\u001b[1;34m(self, person, number, cost)\u001b[0m\n\u001b[0;32m     18\u001b[0m \u001b[1;33m\u001b[0m\u001b[0m\n\u001b[0;32m     19\u001b[0m     \u001b[1;32mdef\u001b[0m \u001b[0mrecruit\u001b[0m\u001b[1;33m(\u001b[0m\u001b[0mself\u001b[0m\u001b[1;33m,\u001b[0m\u001b[0mperson\u001b[0m\u001b[1;33m,\u001b[0m \u001b[0mnumber\u001b[0m\u001b[1;33m,\u001b[0m \u001b[0mcost\u001b[0m \u001b[1;33m=\u001b[0m \u001b[1;36m10000\u001b[0m\u001b[1;33m)\u001b[0m\u001b[1;33m:\u001b[0m\u001b[1;33m\u001b[0m\u001b[1;33m\u001b[0m\u001b[0m\n\u001b[1;32m---> 20\u001b[1;33m         \u001b[0mlist\u001b[0m\u001b[1;33m.\u001b[0m\u001b[0mappend\u001b[0m\u001b[1;33m(\u001b[0m\u001b[0mperson\u001b[0m\u001b[1;33m)\u001b[0m\u001b[1;33m\u001b[0m\u001b[1;33m\u001b[0m\u001b[0m\n\u001b[0m\u001b[0;32m     21\u001b[0m         \u001b[0mself\u001b[0m\u001b[1;33m.\u001b[0m\u001b[0mnumber\u001b[0m \u001b[1;33m+=\u001b[0m \u001b[1;36m1\u001b[0m\u001b[1;33m\u001b[0m\u001b[1;33m\u001b[0m\u001b[0m\n\u001b[0;32m     22\u001b[0m         \u001b[0mself\u001b[0m\u001b[1;33m.\u001b[0m\u001b[0mcost\u001b[0m \u001b[1;33m+=\u001b[0m \u001b[1;36m1\u001b[0m\u001b[1;33m\u001b[0m\u001b[1;33m\u001b[0m\u001b[0m\n",
      "\u001b[1;31mTypeError\u001b[0m: descriptor 'append' requires a 'list' object but received a 'str'"
     ]
    }
   ],
   "source": [
    "#功能验证\n",
    "c0 = Company('小象学院','大数据AI在线教育')\n",
    "c0.recruit('HanXiaoyang',18, cost=20000)\n",
    "c0.recruit('Eric',20, cost=10000)\n",
    "print('{}公司员工详细信息列表:{}'.format(c0.companyName,c0.getEmployeeList()))\n",
    "\n",
    "c0.dismiss('Eric')\n",
    "\n",
    "c0.adPromotion(5000)\n",
    "c0.payInsurance()\n",
    "c0.payTax()\n",
    "c0.sale(50,100)\n",
    "print('{}公司员工详细信息列表:{}'.format(c0.companyName,c0.getEmployeeList()))\n",
    "print('{}公司当前利润：{}'.format(c0.companyName,c0.getProfit()))\n",
    "\n",
    "c1 = Company('百度','搜索引擎')\n",
    "c1.recruit('liyanhong',30, cost=50000)\n",
    "c1.recruit('likaifu',50, cost=40000)\n",
    "print('{}公司员工详细信息列表:{}'.format(c1.companyName,c1.getEmployeeList()))\n",
    "\n",
    "print('公司名列表：',Company.companyList)\n",
    "print('公司总个数：',Company.companyNum)"
   ]
  },
  {
   "cell_type": "code",
   "execution_count": 53,
   "metadata": {},
   "outputs": [],
   "source": [
    "class Company:\n",
    "    # 完成题目对应的要求\n",
    "    # your code here\n",
    "    def __init__(self,employeeName,*employeenum):\n",
    "        self.employeeName = employeeName\n",
    "        self.employeenum = employeenum\n",
    "        \n",
    "    @classmethod\n",
    "    def companyNum(cls,company_number):\n",
    "        return cls.company_number\n",
    "    \n",
    "    @classmethod\n",
    "    def companyList(cls,company_list):\n",
    "        return cls.company_list\n",
    "    \n",
    "    def getEmployeeList(self,name):\n",
    "        print(\"name: \\t\",self.name)\n",
    "        \n",
    "    def recruit(self,person, number, cost = 10000):\n",
    "        list=[]\n",
    "        list.append(person)\n",
    "        self.number += 1\n",
    "        self.cost += 1\n",
    "    \n",
    "    def dismiss(self, person, number, cost = 5000):\n",
    "        list.remove(person)\n",
    "        self.number -= 1\n",
    "        self.cost += 1\n",
    "    \n",
    "    def adPromotion(self, cost = 3000):\n",
    "        self.cost += 1\n",
    "    \n",
    "    def payInsurance(self, number, cost):\n",
    "        self.cost += self.number*1000\n",
    "        \n",
    "    def payTax(self, number, cost):\n",
    "        self.cost+= self.number*500\n",
    "        \n",
    "    def sale(self,sale_number,profit_rate,price):\n",
    "        self.TotalSales += sale_number * price\n",
    "        self.Profit += sale_number * price * profit_rate\n",
    "    \n",
    "    def get_employee(self):\n",
    "        return self.EmployeeName\n",
    "    \n",
    "    def get_profit(self):\n",
    "        return self.Profit\n",
    "        "
   ]
  },
  {
   "cell_type": "code",
   "execution_count": 35,
   "metadata": {},
   "outputs": [],
   "source": [
    "def fire(self,f_name,f_salary):\n",
    "    self.EmployeeName.remove(f_name)\n",
    "    self.TotalCost -= f_salary\n",
    "    self.Employee_number -= 1\n",
    "def advertise(self,ad_cost):\n",
    "    self.TotalCost += ad_cost\n",
    "    \n",
    "def s_security(self,s_cost):\n",
    "    self.TotalCost += s_cost*self.Employee_number\n",
    "def tax(self,t_cost):\n",
    "    self.TotalCost += t_cost*self.Employee_number\n",
    "def sale(self,sale_number,profit_rate,price):\n",
    "    self.TotalSales += sale_number * price\n",
    "    self.Profit += sale_number * price * profit_rate\n",
    "def get_employee(self):\n",
    "    return self.EmployeeName\n",
    "def get_profit(self):\n",
    "    return self.Profit\n",
    "@classmethod\n",
    "def get_num(cls):\n",
    "    return cls.num\n",
    "@classmethod\n",
    "def get_name(cls):\n",
    "    return cls.name"
   ]
  },
  {
   "cell_type": "code",
   "execution_count": 38,
   "metadata": {},
   "outputs": [
    {
     "ename": "SyntaxError",
     "evalue": "invalid syntax (<ipython-input-38-007521d3d812>, line 1)",
     "output_type": "error",
     "traceback": [
      "\u001b[1;36m  File \u001b[1;32m\"<ipython-input-38-007521d3d812>\"\u001b[1;36m, line \u001b[1;32m1\u001b[0m\n\u001b[1;33m    c = Company('C’,'Company C',0,12,12,['Lilei','xiaoHong’])\u001b[0m\n\u001b[1;37m                           ^\u001b[0m\n\u001b[1;31mSyntaxError\u001b[0m\u001b[1;31m:\u001b[0m invalid syntax\n"
     ]
    }
   ],
   "source": [
    "c = Company('C’,'Company C',0,12,12,['Lilei','xiaoHong’])\n",
    "c.recuitment('Tom’,4)\n",
    "c.fire('xiaoHong’,3)\n",
    "c.advertise(0.5)\n",
    "c.s_security(0.2)\n",
    "c.tax(0.1)\n",
    "c.sale(10,0.3,100)\n",
    "print('公司名字：’,c.Company_name)\n",
    "print('总费用：’,c.TotalCost)\n",
    "print('公司员工：’,c.get_employee())\n",
    "print('类方法的调用：’,Company.get_name())\n",
    "print('公司数量：’,Company.num)"
   ]
  },
  {
   "cell_type": "code",
   "execution_count": 39,
   "metadata": {},
   "outputs": [
    {
     "name": "stdout",
     "output_type": "stream",
     "text": [
      "python\n",
      "python and django\n"
     ]
    }
   ],
   "source": [
    "\n",
    "class Book(object):\n",
    "\n",
    "    def __init__(self, title):\n",
    "        self.title = title\n",
    "\n",
    "    @classmethod\n",
    "    def create(cls, title):\n",
    "        book = cls(title=title)\n",
    "        return book\n",
    "\n",
    "book1 = Book(\"python\")\n",
    "book2 = Book.create(\"python and django\")\n",
    "print(book1.title)\n",
    "print(book2.title)"
   ]
  },
  {
   "cell_type": "code",
   "execution_count": 40,
   "metadata": {},
   "outputs": [
    {
     "name": "stdout",
     "output_type": "stream",
     "text": [
      "1.5\n",
      "1.5\n"
     ]
    }
   ],
   "source": [
    "class Foo(object):\n",
    "    X = 1\n",
    "    Y = 2\n",
    "\n",
    "    @staticmethod\n",
    "    def averag(*mixes):\n",
    "        return sum(mixes) / len(mixes)\n",
    "\n",
    "    @staticmethod\n",
    "    def static_method():\n",
    "        return Foo.averag(Foo.X, Foo.Y)\n",
    "\n",
    "    @classmethod\n",
    "    def class_method(cls):\n",
    "        return cls.averag(cls.X, cls.Y)\n",
    "\n",
    "foo = Foo()\n",
    "print(foo.static_method())\n",
    "print(foo.class_method())"
   ]
  },
  {
   "cell_type": "code",
   "execution_count": null,
   "metadata": {},
   "outputs": [],
   "source": [
    "class Student(object):\n",
    "    __slots__ = ('name', 'age') # 用tuple定义允许绑定的属性名称\n",
    "    #为了达到限制的目的，Python允许在定义class的时候，定义一个特殊的__slots__变量，来限制该class实例能添加的属性\n",
    "    #使用__slots__要注意，__slots__定义的属性仅对当前类实例起作用，对继承的子类是不起作用的.\n",
    "    #除非在子类中也定义__slots__，这样，子类实例允许定义的属性就是自身的__slots__加上父类的__slots__。\n",
    "    "
   ]
  },
  {
   "cell_type": "code",
   "execution_count": null,
   "metadata": {},
   "outputs": [],
   "source": [
    "class Student(object):\n",
    "\n",
    "    @property\n",
    "    def score(self):\n",
    "        return self._score\n",
    "\n",
    "    @score.setter\n",
    "    def score(self, value):\n",
    "        if not isinstance(value, int):\n",
    "            raise ValueError('score must be an integer!')\n",
    "        if value < 0 or value > 100:\n",
    "            raise ValueError('score must between 0 ~ 100!')\n",
    "        self._score = value"
   ]
  },
  {
   "cell_type": "code",
   "execution_count": 6,
   "metadata": {},
   "outputs": [],
   "source": [
    "def match_ends(words):\n",
    "    # +++your code here+++\n",
    "    count = 0\n",
    "    for item in words:\n",
    "        if len(item) < 2:\n",
    "            print(\"Please enter longer words\")\n",
    "        elif len(item) >= 2:\n",
    "            if item[0] == item[-1]:\n",
    "                count += 1\n",
    "                print( count)\n",
    "                print(words)\n",
    "            \n",
    "    #return"
   ]
  },
  {
   "cell_type": "code",
   "execution_count": 7,
   "metadata": {},
   "outputs": [
    {
     "name": "stdout",
     "output_type": "stream",
     "text": [
      "1\n",
      "['aba', 'xyz', 'aa', 'x', 'bbb']\n",
      "2\n",
      "['aba', 'xyz', 'aa', 'x', 'bbb']\n",
      "Please enter longer words\n",
      "3\n",
      "['aba', 'xyz', 'aa', 'x', 'bbb']\n",
      "None\n",
      "Please enter longer words\n",
      "Please enter longer words\n",
      "1\n",
      "['', 'x', 'xy', 'xyx', 'xx']\n",
      "2\n",
      "['', 'x', 'xy', 'xyx', 'xx']\n",
      "None\n",
      "1\n",
      "['aaa', 'be', 'abc', 'hello']\n",
      "None\n"
     ]
    }
   ],
   "source": [
    "# 可运行代码自测\n",
    "print(match_ends(['aba', 'xyz', 'aa', 'x', 'bbb']))\n",
    "print(match_ends(['', 'x', 'xy', 'xyx', 'xx']))\n",
    "print(match_ends(['aaa', 'be', 'abc', 'hello']))"
   ]
  },
  {
   "cell_type": "code",
   "execution_count": 8,
   "metadata": {},
   "outputs": [
    {
     "data": {
      "text/plain": [
       "'hel'"
      ]
     },
     "execution_count": 8,
     "metadata": {},
     "output_type": "execute_result"
    }
   ],
   "source": [
    "s = \"hello\"\n",
    "s[:3]"
   ]
  },
  {
   "cell_type": "code",
   "execution_count": 9,
   "metadata": {},
   "outputs": [
    {
     "data": {
      "text/plain": [
       "'lo'"
      ]
     },
     "execution_count": 9,
     "metadata": {},
     "output_type": "execute_result"
    }
   ],
   "source": [
    "s[3:]"
   ]
  },
  {
   "cell_type": "code",
   "execution_count": 10,
   "metadata": {},
   "outputs": [
    {
     "data": {
      "text/plain": [
       "'e'"
      ]
     },
     "execution_count": 10,
     "metadata": {},
     "output_type": "execute_result"
    }
   ],
   "source": [
    "s[1:2]"
   ]
  },
  {
   "cell_type": "code",
   "execution_count": 11,
   "metadata": {},
   "outputs": [
    {
     "data": {
      "text/plain": [
       "'hel'"
      ]
     },
     "execution_count": 11,
     "metadata": {},
     "output_type": "execute_result"
    }
   ],
   "source": [
    "s[:-2]"
   ]
  },
  {
   "cell_type": "code",
   "execution_count": 12,
   "metadata": {},
   "outputs": [
    {
     "data": {
      "text/plain": [
       "'he'"
      ]
     },
     "execution_count": 12,
     "metadata": {},
     "output_type": "execute_result"
    }
   ],
   "source": [
    "s[:2]"
   ]
  },
  {
   "cell_type": "code",
   "execution_count": 13,
   "metadata": {},
   "outputs": [
    {
     "data": {
      "text/plain": [
       "'lo'"
      ]
     },
     "execution_count": 13,
     "metadata": {},
     "output_type": "execute_result"
    }
   ],
   "source": [
    "s[3:]"
   ]
  },
  {
   "cell_type": "code",
   "execution_count": 14,
   "metadata": {},
   "outputs": [
    {
     "data": {
      "text/plain": [
       "'lo'"
      ]
     },
     "execution_count": 14,
     "metadata": {},
     "output_type": "execute_result"
    }
   ],
   "source": [
    "s[-2:]"
   ]
  },
  {
   "cell_type": "code",
   "execution_count": 15,
   "metadata": {},
   "outputs": [
    {
     "data": {
      "text/plain": [
       "'llo'"
      ]
     },
     "execution_count": 15,
     "metadata": {},
     "output_type": "execute_result"
    }
   ],
   "source": [
    "s[-3:]"
   ]
  },
  {
   "cell_type": "code",
   "execution_count": 17,
   "metadata": {},
   "outputs": [
    {
     "data": {
      "text/plain": [
       "'helloly'"
      ]
     },
     "execution_count": 17,
     "metadata": {},
     "output_type": "execute_result"
    }
   ],
   "source": [
    "s+'ly'"
   ]
  },
  {
   "cell_type": "code",
   "execution_count": 18,
   "metadata": {},
   "outputs": [
    {
     "data": {
      "text/plain": [
       "'llo'"
      ]
     },
     "execution_count": 18,
     "metadata": {},
     "output_type": "execute_result"
    }
   ],
   "source": [
    "s[2:]\n"
   ]
  },
  {
   "cell_type": "code",
   "execution_count": 30,
   "metadata": {},
   "outputs": [
    {
     "ename": "TypeError",
     "evalue": "'list' object is not callable",
     "output_type": "error",
     "traceback": [
      "\u001b[1;31m---------------------------------------------------------------------------\u001b[0m",
      "\u001b[1;31mTypeError\u001b[0m                                 Traceback (most recent call last)",
      "\u001b[1;32m<ipython-input-30-9abc2d3fba23>\u001b[0m in \u001b[0;36m<module>\u001b[1;34m\u001b[0m\n\u001b[0;32m      1\u001b[0m \u001b[0ml1\u001b[0m \u001b[1;33m=\u001b[0m \u001b[1;33m[\u001b[0m\u001b[1;34m'aa'\u001b[0m\u001b[1;33m,\u001b[0m\u001b[1;34m'bhopmm'\u001b[0m\u001b[1;33m,\u001b[0m\u001b[1;34m'b'\u001b[0m\u001b[1;33m]\u001b[0m\u001b[1;33m\u001b[0m\u001b[1;33m\u001b[0m\u001b[0m\n\u001b[1;32m----> 2\u001b[1;33m \u001b[0ml2\u001b[0m \u001b[1;33m=\u001b[0m \u001b[0mlist\u001b[0m\u001b[1;33m(\u001b[0m\u001b[0mfilter\u001b[0m\u001b[1;33m(\u001b[0m\u001b[1;32mlambda\u001b[0m \u001b[0mx\u001b[0m\u001b[1;33m:\u001b[0m \u001b[1;32mTrue\u001b[0m \u001b[1;32mif\u001b[0m \u001b[0mlen\u001b[0m\u001b[1;33m(\u001b[0m\u001b[0mx\u001b[0m\u001b[1;33m)\u001b[0m\u001b[1;33m>=\u001b[0m\u001b[1;36m2\u001b[0m \u001b[1;32melse\u001b[0m \u001b[1;32mFalse\u001b[0m\u001b[1;33m,\u001b[0m\u001b[0ml1\u001b[0m\u001b[1;33m)\u001b[0m\u001b[1;33m)\u001b[0m\u001b[1;33m\u001b[0m\u001b[1;33m\u001b[0m\u001b[0m\n\u001b[0m\u001b[0;32m      3\u001b[0m \u001b[0mprint\u001b[0m\u001b[1;33m(\u001b[0m\u001b[0ml2\u001b[0m\u001b[1;33m)\u001b[0m\u001b[1;33m\u001b[0m\u001b[1;33m\u001b[0m\u001b[0m\n",
      "\u001b[1;31mTypeError\u001b[0m: 'list' object is not callable"
     ]
    }
   ],
   "source": [
    "l1 = ['aa','bhopmm','b']\n",
    "l2 = list(filter(lambda x: True if len(x)>=2 else False,l1))\n",
    "print(l2)"
   ]
  },
  {
   "cell_type": "code",
   "execution_count": 31,
   "metadata": {},
   "outputs": [
    {
     "name": "stdout",
     "output_type": "stream",
     "text": [
      "['append', 'apple', 'axix', 'word', 'x']\n"
     ]
    }
   ],
   "source": [
    "l1 = ['apple', 'append','word','x','axix']\n",
    "print(sorted(l1))"
   ]
  },
  {
   "cell_type": "code",
   "execution_count": 35,
   "metadata": {},
   "outputs": [
    {
     "name": "stdout",
     "output_type": "stream",
     "text": [
      "Found 'is' in the string.\n",
      "3\n"
     ]
    }
   ],
   "source": [
    "s = \"This be a string\"\n",
    "if s.find(\"is\") == -1:\n",
    "    print (\"No 'is' here!\")\n",
    "else:\n",
    "    print (\"Found 'is' in the string.\")\n",
    "print(s.find('s'))"
   ]
  },
  {
   "cell_type": "code",
   "execution_count": 47,
   "metadata": {},
   "outputs": [
    {
     "name": "stdout",
     "output_type": "stream",
     "text": [
      "3\n"
     ]
    }
   ],
   "source": [
    "t1= [(2, 2), (1, 3), (3, 4, 5), (1,7,6,8)]\n",
    "print(t1[1][1])"
   ]
  },
  {
   "cell_type": "code",
   "execution_count": 46,
   "metadata": {},
   "outputs": [
    {
     "name": "stdout",
     "output_type": "stream",
     "text": [
      "[2, 3, 5, 8]\n",
      "[(2,), (1,), (3, 4), (1, 7, 6)]\n"
     ]
    }
   ],
   "source": [
    "l2 = [i[-1] for i in t1]\n",
    "l1 = [i[:-1] for i in t1] \n",
    "print(l2)\n",
    "print(l1)"
   ]
  },
  {
   "cell_type": "code",
   "execution_count": 50,
   "metadata": {},
   "outputs": [
    {
     "name": "stdout",
     "output_type": "stream",
     "text": [
      "[(2, 2), (1, 3), (3, 4, 5), (1, 7, 6, 8)]\n"
     ]
    }
   ],
   "source": [
    "print(sorted(t1, key=lambda x:x[-1]))"
   ]
  },
  {
   "cell_type": "code",
   "execution_count": 13,
   "metadata": {},
   "outputs": [],
   "source": [
    "import random\n",
    "def mimic_dict(filename):\n",
    "    \"\"\"Returns mimic dict mapping each word to list of words which follow it.\"\"\"\n",
    "    # +++your code here+++\n",
    "    try:\n",
    "        f = open(filename, 'r')\n",
    "        dict1 = {}\n",
    "        text = f.read()\n",
    "        words = text.split()  #split()当不带参数时以空格进行分割，当代参数时，以该参数进行分割。\n",
    "        f.close()\n",
    "    except Exception as err:\n",
    "        print(\"The file can not be found!\")\n",
    "        blank = ' '\n",
    "        for word in words:\n",
    "            if not blank in mimic_dict:\n",
    "                dict1[blank] = [word]\n",
    "            else:\n",
    "                dict1[blank].append(word)\n",
    "                blank = word\n",
    "    \n",
    "    \n",
    "    return dict1\n",
    "\n",
    "def print_mimic(mimic_dict, word):\n",
    "    \"\"\"Given mimic dict and start word, prints 200 random words.\"\"\"\n",
    "    # +++your code here+++\n",
    "    for i in range(200):\n",
    "        l = []\n",
    "        first_word = 'and'\n",
    "        next_word = random.choice(dict1['and'])\n",
    "        l.append(next_word)\n",
    "    return l"
   ]
  },
  {
   "cell_type": "code",
   "execution_count": 5,
   "metadata": {},
   "outputs": [
    {
     "name": "stdout",
     "output_type": "stream",
     "text": [
      "lajod sla\n"
     ]
    }
   ],
   "source": [
    "pre = ' '\n",
    "lis = \"lajod\"+pre+\"sla\"\n",
    "print(lis)"
   ]
  },
  {
   "cell_type": "code",
   "execution_count": 8,
   "metadata": {},
   "outputs": [
    {
     "name": "stdout",
     "output_type": "stream",
     "text": [
      "{'a': 3, 'b': 2}\n"
     ]
    }
   ],
   "source": [
    "dic1= {'a':1,'b':2}\n",
    "dic1['a']=3\n",
    "print(dic1)"
   ]
  },
  {
   "cell_type": "code",
   "execution_count": 12,
   "metadata": {},
   "outputs": [
    {
     "name": "stdout",
     "output_type": "stream",
     "text": [
      "1\n"
     ]
    }
   ],
   "source": [
    "import random\n",
    "li = [1,2,3,4]\n",
    "a = random.choice(li)\n",
    "print(a)"
   ]
  },
  {
   "cell_type": "code",
   "execution_count": 1,
   "metadata": {},
   "outputs": [
    {
     "ename": "TypeError",
     "evalue": "write() argument must be str, not dict",
     "output_type": "error",
     "traceback": [
      "\u001b[1;31m---------------------------------------------------------------------------\u001b[0m",
      "\u001b[1;31mTypeError\u001b[0m                                 Traceback (most recent call last)",
      "\u001b[1;32m<ipython-input-1-4e30bd9c3524>\u001b[0m in \u001b[0;36m<module>\u001b[1;34m\u001b[0m\n\u001b[0;32m      1\u001b[0m \u001b[0mdict1\u001b[0m \u001b[1;33m=\u001b[0m \u001b[1;33m{\u001b[0m\u001b[1;34m'a'\u001b[0m\u001b[1;33m:\u001b[0m\u001b[1;36m1\u001b[0m\u001b[1;33m,\u001b[0m \u001b[1;34m'b'\u001b[0m\u001b[1;33m:\u001b[0m\u001b[1;36m2\u001b[0m\u001b[1;33m}\u001b[0m\u001b[1;33m\u001b[0m\u001b[1;33m\u001b[0m\u001b[0m\n\u001b[0;32m      2\u001b[0m \u001b[0mf\u001b[0m \u001b[1;33m=\u001b[0m \u001b[0mopen\u001b[0m\u001b[1;33m(\u001b[0m\u001b[1;34m'test.txt'\u001b[0m\u001b[1;33m,\u001b[0m\u001b[1;34m'w'\u001b[0m\u001b[1;33m,\u001b[0m\u001b[0mencoding\u001b[0m \u001b[1;33m=\u001b[0m\u001b[1;34m'utf-8'\u001b[0m\u001b[1;33m)\u001b[0m\u001b[1;33m\u001b[0m\u001b[1;33m\u001b[0m\u001b[0m\n\u001b[1;32m----> 3\u001b[1;33m \u001b[0mf\u001b[0m\u001b[1;33m.\u001b[0m\u001b[0mwrite\u001b[0m\u001b[1;33m(\u001b[0m\u001b[0mdict1\u001b[0m\u001b[1;33m)\u001b[0m\u001b[1;33m\u001b[0m\u001b[1;33m\u001b[0m\u001b[0m\n\u001b[0m\u001b[0;32m      4\u001b[0m \u001b[0mf\u001b[0m\u001b[1;33m.\u001b[0m\u001b[0mclose\u001b[0m\u001b[1;33m(\u001b[0m\u001b[1;33m)\u001b[0m\u001b[1;33m\u001b[0m\u001b[1;33m\u001b[0m\u001b[0m\n",
      "\u001b[1;31mTypeError\u001b[0m: write() argument must be str, not dict"
     ]
    }
   ],
   "source": [
    "dict1 = {'a':1, 'b':2}\n",
    "f = open('test.txt','w',encoding ='utf-8')\n",
    "for i in dict[i]:\n",
    "f.write(dict1)\n",
    "f.close()"
   ]
  },
  {
   "cell_type": "code",
   "execution_count": null,
   "metadata": {},
   "outputs": [],
   "source": []
  }
 ],
 "metadata": {
  "kernelspec": {
   "display_name": "Python 3",
   "language": "python",
   "name": "python3"
  },
  "language_info": {
   "codemirror_mode": {
    "name": "ipython",
    "version": 3
   },
   "file_extension": ".py",
   "mimetype": "text/x-python",
   "name": "python",
   "nbconvert_exporter": "python",
   "pygments_lexer": "ipython3",
   "version": "3.7.5"
  },
  "toc": {
   "base_numbering": 1,
   "nav_menu": {},
   "number_sections": true,
   "sideBar": true,
   "skip_h1_title": false,
   "title_cell": "Table of Contents",
   "title_sidebar": "Contents",
   "toc_cell": false,
   "toc_position": {},
   "toc_section_display": true,
   "toc_window_display": false
  }
 },
 "nbformat": 4,
 "nbformat_minor": 2
}
